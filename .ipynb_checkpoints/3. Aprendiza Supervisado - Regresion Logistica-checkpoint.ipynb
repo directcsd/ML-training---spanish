{
 "cells": [
  {
   "cell_type": "code",
   "execution_count": 1,
   "metadata": {
    "slideshow": {
     "slide_type": "skip"
    }
   },
   "outputs": [],
   "source": [
    "# Importamos nuestra librerías básicas\n",
    "import numpy as np\n",
    "import pandas as pd\n",
    "import os\n",
    "import random\n",
    "from sklearn.datasets import fetch_mldata\n",
    "from sklearn.datasets import make_classification\n",
    "from sklearn.preprocessing import StandardScaler\n",
    "from sklearn.linear_model import LogisticRegression\n",
    "from sklearn.model_selection import RandomizedSearchCV\n",
    "\n",
    "import matplotlib.pyplot as plt\n",
    "import seaborn as sns\n",
    "\n",
    "# Este paso es para que los resultados en vuestros notebooks sean iguales a lo de este\n",
    "np.random.seed(42)\n"
   ]
  },
  {
   "cell_type": "markdown",
   "metadata": {
    "slideshow": {
     "slide_type": "slide"
    }
   },
   "source": [
    "# Aprendizaje supervisado - Regresión Logistica\n",
    "\n",
    "En este notebook vamos implementar la clasificación de digitos de la serie MNIST\n",
    "En la mayoría de nuestros ejemplos utilizaremos la librería de Machine Learning \n",
    "Scikit-Learn."
   ]
  },
  {
   "cell_type": "markdown",
   "metadata": {
    "slideshow": {
     "slide_type": "slide"
    }
   },
   "source": [
    "# Como funciona la regresion logistica"
   ]
  },
  {
   "cell_type": "code",
   "execution_count": 2,
   "metadata": {},
   "outputs": [
    {
     "data": {
      "image/png": "[encoded data removed]",
      "text/plain": [
       "<matplotlib.figure.Figure at 0x12b110dfd68>"
      ]
     },
     "metadata": {},
     "output_type": "display_data"
    }
   ],
   "source": [
    "# Para empezar creamos un dataset ejemplo con sklearn\n",
    "data = make_classification(n_samples=30, n_features=2, n_informative=2, n_redundant=0,\n",
    "                           weights=[.6, .4], random_state=42)\n",
    "# Separo entre *features* y el objetivo\n",
    "scale = StandardScaler().fit(data[0])\n",
    "features = scale.transform(data[0])\n",
    "target = data[1]\n",
    "# Dibujo las muestras\n",
    "nok = features[target==0]\n",
    "ok = features[target==1]\n",
    "plt.figure(figsize=(7,7))\n",
    "plt.xlabel(\"Primera Prueba\")\n",
    "plt.ylabel(\"Segunda Prueba\")\n",
    "plt.scatter(nok[:,0], nok[:,1], color=\"red\", alpha=0.5)\n",
    "plt.scatter(ok[:,0], ok[:,1], color=\"blue\", alpha=0.5)\n",
    "plt.show()"
   ]
  },
  {
   "cell_type": "markdown",
   "metadata": {
    "slideshow": {
     "slide_type": "slide"
    }
   },
   "source": [
    "# Aplicamos la regresión logísitica para separar las muestras"
   ]
  },
  {
   "cell_type": "code",
   "execution_count": 3,
   "metadata": {},
   "outputs": [
    {
     "data": {
      "image/png": "[encoded data removed]",
      "text/plain": [
       "<matplotlib.figure.Figure at 0x12b112df208>"
      ]
     },
     "metadata": {},
     "output_type": "display_data"
    }
   ],
   "source": [
    "# Aplicamos la regresión logistica\n",
    "log_reg = LogisticRegression().fit(features, target)\n",
    "# Volvemos a dibujar las muestras\n",
    "plt.figure(figsize=(7,7))\n",
    "plt.xlabel(\"Primera Prueba\")\n",
    "plt.ylabel(\"Segunda Prueba\")\n",
    "plt.scatter(nok[:,0], nok[:,1], color=\"red\", alpha=0.5)\n",
    "plt.scatter(ok[:,0], ok[:,1], color=\"blue\", alpha=0.5)\n",
    "lin = np.array([-2,2])\n",
    "w0 = log_reg.intercept_\n",
    "w1,w2 = log_reg.coef_[0]\n",
    "plt.plot(lin,(-w0-w1*lin)/w2,\"k-\")\n",
    "plt.show()"
   ]
  },
  {
   "cell_type": "markdown",
   "metadata": {
    "slideshow": {
     "slide_type": "slide"
    }
   },
   "source": [
    "# Ahora vamos aplicar la regresión logística a un dataset más complicado"
   ]
  },
  {
   "cell_type": "code",
   "execution_count": 4,
   "metadata": {
    "collapsed": true
   },
   "outputs": [],
   "source": [
    "# Aqui importamos los datos que vamos a clasificar\n",
    "\n",
    "# Scikit-Learn ya incluye algunos datasets de ejemplo como el MNIST\n",
    "mnist = fetch_mldata('MNIST original')\n",
    "\n",
    "# El dataset contiene 70.000 ejemplos de digitos escritos a mano\n",
    "# en blanco y negro. Cada digito esta representada por una imagen de 28x28 pixels.\n",
    "# Además el dataset incluye el \"target\" i.e. el numero asociado con cada imagen.\n",
    "\n",
    "# Otros datasets serían más rápidos de ejecutar, pero la ventaja de este es que,\n",
    "# debido a su complejidad, cuando empecemos a utilizar modelos más complejos (como \n",
    "# redes neuronales), se empezarán a ver las ventajas de estos modelos más complejos\n",
    "\n",
    "# Aqui cargamos nuestros ejemplos en X, el target en y. Nuestro objetivo con\n",
    "# Machine Learning es aprender la función f(X) que genera y.\n",
    "X, y = mnist[\"data\"], mnist[\"target\"]"
   ]
  },
  {
   "cell_type": "markdown",
   "metadata": {
    "slideshow": {
     "slide_type": "slide"
    }
   },
   "source": [
    "## Separación del set de pruebas"
   ]
  },
  {
   "cell_type": "code",
   "execution_count": 5,
   "metadata": {
    "collapsed": true
   },
   "outputs": [],
   "source": [
    "# Nuestro objetivo es que la función aprendida funcione no solamente con\n",
    "# el dataset de prueba, pero que también \"generalize\" bien para ejemplos\n",
    "# que no haya visto antes.\n",
    "\n",
    "# En esta sección separamos el dataset en 2 partes: el training set y test set\n",
    "X_train_o, X_test_o, y_train, y_test = X[:60000], X[60000:], y[:60000], y[60000:]"
   ]
  },
  {
   "cell_type": "markdown",
   "metadata": {
    "slideshow": {
     "slide_type": "slide"
    }
   },
   "source": [
    "# Visualización de los datos"
   ]
  },
  {
   "cell_type": "code",
   "execution_count": 11,
   "metadata": {},
   "outputs": [
    {
     "data": {
      "image/png": "[encoded data removed]",
      "text/plain": [
       "<matplotlib.figure.Figure at 0x12b15d05668>"
      ]
     },
     "metadata": {},
     "output_type": "display_data"
    }
   ],
   "source": [
    "fig=plt.figure()\n",
    "a=fig.add_subplot(2,2,1)\n",
    "plt.imshow(np.reshape(X[random.randint(1,50000)], [28, 28]),cmap=\"gray\")\n",
    "a=fig.add_subplot(2,2,2)\n",
    "plt.imshow(np.reshape(X[random.randint(1,50000)], [28, 28]),cmap=\"gray\")\n",
    "a=fig.add_subplot(2,2,3)\n",
    "plt.imshow(np.reshape(X[random.randint(1,50000)], [28, 28]),cmap=\"gray\")\n",
    "a=fig.add_subplot(2,2,4)\n",
    "plt.imshow(np.reshape(X[random.randint(1,50000)], [28, 28]),cmap=\"gray\")\n",
    "plt.show();"
   ]
  },
  {
   "cell_type": "markdown",
   "metadata": {
    "slideshow": {
     "slide_type": "slide"
    }
   },
   "source": [
    "# Normalización de los datos (aka Feature Engineering)"
   ]
  },
  {
   "cell_type": "code",
   "execution_count": 7,
   "metadata": {},
   "outputs": [
    {
     "name": "stderr",
     "output_type": "stream",
     "text": [
      "C:\\ProgramData\\Anaconda3\\envs\\tensorflow\\lib\\site-packages\\sklearn\\utils\\validation.py:475: DataConversionWarning: Data with input dtype uint8 was converted to float64 by StandardScaler.\n",
      "  warnings.warn(msg, DataConversionWarning)\n"
     ]
    }
   ],
   "source": [
    "# Antes de enviar los datos al modelo, hacemos una adaptación de los datos para normalizarlos\n",
    "# Por normalización en este contexto la idea es remover la media de cada \"feature\"\n",
    "# (i.e. centrar en zero) y dividir por la \"variance\", es decir hacer que los datos estén entre\n",
    "# 0 y 1.\n",
    "scaler = StandardScaler()\n",
    "X_train = scaler.fit_transform(X_train_o)\n",
    "X_test = scaler.transform(X_test_o)\n"
   ]
  },
  {
   "cell_type": "markdown",
   "metadata": {
    "slideshow": {
     "slide_type": "slide"
    }
   },
   "source": [
    "# Regresión Logistica"
   ]
  },
  {
   "cell_type": "code",
   "execution_count": 8,
   "metadata": {},
   "outputs": [
    {
     "name": "stdout",
     "output_type": "stream",
     "text": [
      "Wall time: 9.77 s\n",
      "Wall time: 125 ms\n",
      "Rendimiento en el dataset de training: 0.8893\n",
      "Wall time: 15.6 ms\n",
      "Rendimiento en el dataset de pruebas: 0.8918\n"
     ]
    }
   ],
   "source": [
    "# El problema que vamos a classificar tiene 768 dimensiones de entrada (28x28)\n",
    "# La regresión logistica intentará definir una \"línea\" en este espacio multidimensional\n",
    "# que mejor represente el dato\n",
    "\n",
    "# Creamos el modelo que queremos usar\n",
    "# Para la regresión logistica, hemos indicado que el modelo es para una\n",
    "# clasificacion de multiplas clases\n",
    "lr_clf = LogisticRegression(multi_class='multinomial', solver='saga', tol=0.1)\n",
    "\n",
    "# Hacemos fit del modelo al dato de training\n",
    "%time lr_clf.fit(X_train, y_train)\n",
    "\n",
    "# Los modelos de Scikit-Learn ya vienen con funciones para evaluar el rendimiento del modelo\n",
    "# Con este modelo sencillo hemos podido alcanzar una \"exactitud\" de mis previsiones de casi 90%\n",
    "# Usamos \"exactitud\" para diferenciar de precisión que significa otra cosa en nuestras medidas\n",
    "# rendimiento.\n",
    "%time train_score = lr_clf.score(X_train, y_train)\n",
    "print(\"Rendimiento en el dataset de training: %.4f\" % train_score)\n",
    "%time score = lr_clf.score(X_test, y_test)\n",
    "print(\"Rendimiento en el dataset de pruebas: %.4f\" % score)\n"
   ]
  },
  {
   "cell_type": "markdown",
   "metadata": {
    "slideshow": {
     "slide_type": "slide"
    }
   },
   "source": [
    "# Evaluación del Modelo\n",
    "\n",
    "- Exactitud - Accuracy\n",
    "- Precisión - Precision\n",
    "- \"Retirada\" - Recall\n"
   ]
  },
  {
   "cell_type": "code",
   "execution_count": 9,
   "metadata": {},
   "outputs": [
    {
     "name": "stdout",
     "output_type": "stream",
     "text": [
      "Wall time: 118 ms\n",
      "Rendimiento en el dataset de training: 0.8893\n",
      "Wall time: 15.6 ms\n",
      "Rendimiento en el dataset de pruebas: 0.8918\n"
     ]
    }
   ],
   "source": [
    "# Los modelos de Scikit-Learn ya vienen con funciones para evaluar el rendimiento del modelo\n",
    "# Con este modelo sencillo hemos podido alcanzar una \"exactitud\" de mis previsiones de casi 90%\n",
    "# Usamos \"exactitud\" para diferenciar de precisión que significa otra cosa en nuestras medidas\n",
    "# rendimiento.\n",
    "%time train_score = lr_clf.score(X_train, y_train)\n",
    "print(\"Rendimiento en el dataset de training: %.4f\" % train_score)\n",
    "%time score = lr_clf.score(X_test, y_test)\n",
    "print(\"Rendimiento en el dataset de pruebas: %.4f\" % score)\n"
   ]
  }
 ],
 "metadata": {
  "celltoolbar": "Slideshow",
  "kernelspec": {
   "display_name": "Python 3",
   "language": "python",
   "name": "python3"
  },
  "language_info": {
   "codemirror_mode": {
    "name": "ipython",
    "version": 3
   },
   "file_extension": ".py",
   "mimetype": "text/x-python",
   "name": "python",
   "nbconvert_exporter": "python",
   "pygments_lexer": "ipython3",
   "version": "3.6.3"
  }
 },
 "nbformat": 4,
 "nbformat_minor": 2
}
