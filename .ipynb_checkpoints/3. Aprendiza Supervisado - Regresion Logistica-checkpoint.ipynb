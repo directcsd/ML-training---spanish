{
 "cells": [
  {
   "cell_type": "code",
   "execution_count": 1,
   "metadata": {
    "slideshow": {
     "slide_type": "skip"
    }
   },
   "outputs": [
    {
     "data": {
      "text/html": [
       "\n",
       "    <div class=\"bk-root\">\n",
       "        <a href=\"https://bokeh.pydata.org\" target=\"_blank\" class=\"bk-logo bk-logo-small bk-logo-notebook\"></a>\n",
       "        <span id=\"9495baa4-8181-4e61-97e2-0da9342012d0\">Loading BokehJS ...</span>\n",
       "    </div>"
      ]
     },
     "metadata": {},
     "output_type": "display_data"
    },
    {
     "data": {
      "application/javascript": [
       "\n",
       "(function(root) {\n",
       "  function now() {\n",
       "    return new Date();\n",
       "  }\n",
       "\n",
       "  var force = true;\n",
       "\n",
       "  if (typeof (root._bokeh_onload_callbacks) === \"undefined\" || force === true) {\n",
       "    root._bokeh_onload_callbacks = [];\n",
       "    root._bokeh_is_loading = undefined;\n",
       "  }\n",
       "\n",
       "  var JS_MIME_TYPE = 'application/javascript';\n",
       "  var HTML_MIME_TYPE = 'text/html';\n",
       "  var EXEC_MIME_TYPE = 'application/vnd.bokehjs_exec.v0+json';\n",
       "  var CLASS_NAME = 'output_bokeh rendered_html';\n",
       "\n",
       "  /**\n",
       "   * Render data to the DOM node\n",
       "   */\n",
       "  function render(props, node) {\n",
       "    var script = document.createElement(\"script\");\n",
       "    node.appendChild(script);\n",
       "  }\n",
       "\n",
       "  /**\n",
       "   * Handle when an output is cleared or removed\n",
       "   */\n",
       "  function handleClearOutput(event, handle) {\n",
       "    var cell = handle.cell;\n",
       "\n",
       "    var id = cell.output_area._bokeh_element_id;\n",
       "    var server_id = cell.output_area._bokeh_server_id;\n",
       "    // Clean up Bokeh references\n",
       "    if (id !== undefined) {\n",
       "      Bokeh.index[id].model.document.clear();\n",
       "      delete Bokeh.index[id];\n",
       "    }\n",
       "\n",
       "    if (server_id !== undefined) {\n",
       "      // Clean up Bokeh references\n",
       "      var cmd = \"from bokeh.io.state import curstate; print(curstate().uuid_to_server['\" + server_id + \"'].get_sessions()[0].document.roots[0]._id)\";\n",
       "      cell.notebook.kernel.execute(cmd, {\n",
       "        iopub: {\n",
       "          output: function(msg) {\n",
       "            var element_id = msg.content.text.trim();\n",
       "            Bokeh.index[element_id].model.document.clear();\n",
       "            delete Bokeh.index[element_id];\n",
       "          }\n",
       "        }\n",
       "      });\n",
       "      // Destroy server and session\n",
       "      var cmd = \"import bokeh.io.notebook as ion; ion.destroy_server('\" + server_id + \"')\";\n",
       "      cell.notebook.kernel.execute(cmd);\n",
       "    }\n",
       "  }\n",
       "\n",
       "  /**\n",
       "   * Handle when a new output is added\n",
       "   */\n",
       "  function handleAddOutput(event, handle) {\n",
       "    var output_area = handle.output_area;\n",
       "    var output = handle.output;\n",
       "\n",
       "    // limit handleAddOutput to display_data with EXEC_MIME_TYPE content only\n",
       "    if ((output.output_type != \"display_data\") || (!output.data.hasOwnProperty(EXEC_MIME_TYPE))) {\n",
       "      return\n",
       "    }\n",
       "\n",
       "    var toinsert = output_area.element.find(`.${CLASS_NAME.split(' ')[0]}`);\n",
       "\n",
       "    if (output.metadata[EXEC_MIME_TYPE][\"id\"] !== undefined) {\n",
       "      toinsert[0].firstChild.textContent = output.data[JS_MIME_TYPE];\n",
       "      // store reference to embed id on output_area\n",
       "      output_area._bokeh_element_id = output.metadata[EXEC_MIME_TYPE][\"id\"];\n",
       "    }\n",
       "    if (output.metadata[EXEC_MIME_TYPE][\"server_id\"] !== undefined) {\n",
       "      var bk_div = document.createElement(\"div\");\n",
       "      bk_div.innerHTML = output.data[HTML_MIME_TYPE];\n",
       "      var script_attrs = bk_div.children[0].attributes;\n",
       "      for (var i = 0; i < script_attrs.length; i++) {\n",
       "        toinsert[0].firstChild.setAttribute(script_attrs[i].name, script_attrs[i].value);\n",
       "      }\n",
       "      // store reference to server id on output_area\n",
       "      output_area._bokeh_server_id = output.metadata[EXEC_MIME_TYPE][\"server_id\"];\n",
       "    }\n",
       "  }\n",
       "\n",
       "  function register_renderer(events, OutputArea) {\n",
       "\n",
       "    function append_mime(data, metadata, element) {\n",
       "      // create a DOM node to render to\n",
       "      var toinsert = this.create_output_subarea(\n",
       "        metadata,\n",
       "        CLASS_NAME,\n",
       "        EXEC_MIME_TYPE\n",
       "      );\n",
       "      this.keyboard_manager.register_events(toinsert);\n",
       "      // Render to node\n",
       "      var props = {data: data, metadata: metadata[EXEC_MIME_TYPE]};\n",
       "      render(props, toinsert[0]);\n",
       "      element.append(toinsert);\n",
       "      return toinsert\n",
       "    }\n",
       "\n",
       "    /* Handle when an output is cleared or removed */\n",
       "    events.on('clear_output.CodeCell', handleClearOutput);\n",
       "    events.on('delete.Cell', handleClearOutput);\n",
       "\n",
       "    /* Handle when a new output is added */\n",
       "    events.on('output_added.OutputArea', handleAddOutput);\n",
       "\n",
       "    /**\n",
       "     * Register the mime type and append_mime function with output_area\n",
       "     */\n",
       "    OutputArea.prototype.register_mime_type(EXEC_MIME_TYPE, append_mime, {\n",
       "      /* Is output safe? */\n",
       "      safe: true,\n",
       "      /* Index of renderer in `output_area.display_order` */\n",
       "      index: 0\n",
       "    });\n",
       "  }\n",
       "\n",
       "  // register the mime type if in Jupyter Notebook environment and previously unregistered\n",
       "  if (root.Jupyter !== undefined) {\n",
       "    var events = require('base/js/events');\n",
       "    var OutputArea = require('notebook/js/outputarea').OutputArea;\n",
       "\n",
       "    if (OutputArea.prototype.mime_types().indexOf(EXEC_MIME_TYPE) == -1) {\n",
       "      register_renderer(events, OutputArea);\n",
       "    }\n",
       "  }\n",
       "\n",
       "  \n",
       "  if (typeof (root._bokeh_timeout) === \"undefined\" || force === true) {\n",
       "    root._bokeh_timeout = Date.now() + 5000;\n",
       "    root._bokeh_failed_load = false;\n",
       "  }\n",
       "\n",
       "  var NB_LOAD_WARNING = {'data': {'text/html':\n",
       "     \"<div style='background-color: #fdd'>\\n\"+\n",
       "     \"<p>\\n\"+\n",
       "     \"BokehJS does not appear to have successfully loaded. If loading BokehJS from CDN, this \\n\"+\n",
       "     \"may be due to a slow or bad network connection. Possible fixes:\\n\"+\n",
       "     \"</p>\\n\"+\n",
       "     \"<ul>\\n\"+\n",
       "     \"<li>re-rerun `output_notebook()` to attempt to load from CDN again, or</li>\\n\"+\n",
       "     \"<li>use INLINE resources instead, as so:</li>\\n\"+\n",
       "     \"</ul>\\n\"+\n",
       "     \"<code>\\n\"+\n",
       "     \"from bokeh.resources import INLINE\\n\"+\n",
       "     \"output_notebook(resources=INLINE)\\n\"+\n",
       "     \"</code>\\n\"+\n",
       "     \"</div>\"}};\n",
       "\n",
       "  function display_loaded() {\n",
       "    var el = document.getElementById(\"9495baa4-8181-4e61-97e2-0da9342012d0\");\n",
       "    if (el != null) {\n",
       "      el.textContent = \"BokehJS is loading...\";\n",
       "    }\n",
       "    if (root.Bokeh !== undefined) {\n",
       "      if (el != null) {\n",
       "        el.textContent = \"BokehJS \" + root.Bokeh.version + \" successfully loaded.\";\n",
       "      }\n",
       "    } else if (Date.now() < root._bokeh_timeout) {\n",
       "      setTimeout(display_loaded, 100)\n",
       "    }\n",
       "  }\n",
       "\n",
       "\n",
       "  function run_callbacks() {\n",
       "    try {\n",
       "      root._bokeh_onload_callbacks.forEach(function(callback) { callback() });\n",
       "    }\n",
       "    finally {\n",
       "      delete root._bokeh_onload_callbacks\n",
       "    }\n",
       "    console.info(\"Bokeh: all callbacks have finished\");\n",
       "  }\n",
       "\n",
       "  function load_libs(js_urls, callback) {\n",
       "    root._bokeh_onload_callbacks.push(callback);\n",
       "    if (root._bokeh_is_loading > 0) {\n",
       "      console.log(\"Bokeh: BokehJS is being loaded, scheduling callback at\", now());\n",
       "      return null;\n",
       "    }\n",
       "    if (js_urls == null || js_urls.length === 0) {\n",
       "      run_callbacks();\n",
       "      return null;\n",
       "    }\n",
       "    console.log(\"Bokeh: BokehJS not loaded, scheduling load and callback at\", now());\n",
       "    root._bokeh_is_loading = js_urls.length;\n",
       "    for (var i = 0; i < js_urls.length; i++) {\n",
       "      var url = js_urls[i];\n",
       "      var s = document.createElement('script');\n",
       "      s.src = url;\n",
       "      s.async = false;\n",
       "      s.onreadystatechange = s.onload = function() {\n",
       "        root._bokeh_is_loading--;\n",
       "        if (root._bokeh_is_loading === 0) {\n",
       "          console.log(\"Bokeh: all BokehJS libraries loaded\");\n",
       "          run_callbacks()\n",
       "        }\n",
       "      };\n",
       "      s.onerror = function() {\n",
       "        console.warn(\"failed to load library \" + url);\n",
       "      };\n",
       "      console.log(\"Bokeh: injecting script tag for BokehJS library: \", url);\n",
       "      document.getElementsByTagName(\"head\")[0].appendChild(s);\n",
       "    }\n",
       "  };var element = document.getElementById(\"9495baa4-8181-4e61-97e2-0da9342012d0\");\n",
       "  if (element == null) {\n",
       "    console.log(\"Bokeh: ERROR: autoload.js configured with elementid '9495baa4-8181-4e61-97e2-0da9342012d0' but no matching script tag was found. \")\n",
       "    return false;\n",
       "  }\n",
       "\n",
       "  var js_urls = [\"https://cdn.pydata.org/bokeh/release/bokeh-0.12.10.min.js\", \"https://cdn.pydata.org/bokeh/release/bokeh-widgets-0.12.10.min.js\", \"https://cdn.pydata.org/bokeh/release/bokeh-tables-0.12.10.min.js\", \"https://cdn.pydata.org/bokeh/release/bokeh-gl-0.12.10.min.js\"];\n",
       "\n",
       "  var inline_js = [\n",
       "    function(Bokeh) {\n",
       "      Bokeh.set_log_level(\"info\");\n",
       "    },\n",
       "    \n",
       "    function(Bokeh) {\n",
       "      \n",
       "    },\n",
       "    function(Bokeh) {\n",
       "      console.log(\"Bokeh: injecting CSS: https://cdn.pydata.org/bokeh/release/bokeh-0.12.10.min.css\");\n",
       "      Bokeh.embed.inject_css(\"https://cdn.pydata.org/bokeh/release/bokeh-0.12.10.min.css\");\n",
       "      console.log(\"Bokeh: injecting CSS: https://cdn.pydata.org/bokeh/release/bokeh-widgets-0.12.10.min.css\");\n",
       "      Bokeh.embed.inject_css(\"https://cdn.pydata.org/bokeh/release/bokeh-widgets-0.12.10.min.css\");\n",
       "      console.log(\"Bokeh: injecting CSS: https://cdn.pydata.org/bokeh/release/bokeh-tables-0.12.10.min.css\");\n",
       "      Bokeh.embed.inject_css(\"https://cdn.pydata.org/bokeh/release/bokeh-tables-0.12.10.min.css\");\n",
       "    }\n",
       "  ];\n",
       "\n",
       "  function run_inline_js() {\n",
       "    \n",
       "    if ((root.Bokeh !== undefined) || (force === true)) {\n",
       "      for (var i = 0; i < inline_js.length; i++) {\n",
       "        inline_js[i].call(root, root.Bokeh);\n",
       "      }if (force === true) {\n",
       "        display_loaded();\n",
       "      }} else if (Date.now() < root._bokeh_timeout) {\n",
       "      setTimeout(run_inline_js, 100);\n",
       "    } else if (!root._bokeh_failed_load) {\n",
       "      console.log(\"Bokeh: BokehJS failed to load within specified timeout.\");\n",
       "      root._bokeh_failed_load = true;\n",
       "    } else if (force !== true) {\n",
       "      var cell = $(document.getElementById(\"9495baa4-8181-4e61-97e2-0da9342012d0\")).parents('.cell').data().cell;\n",
       "      cell.output_area.append_execute_result(NB_LOAD_WARNING)\n",
       "    }\n",
       "\n",
       "  }\n",
       "\n",
       "  if (root._bokeh_is_loading === 0) {\n",
       "    console.log(\"Bokeh: BokehJS loaded, going straight to plotting\");\n",
       "    run_inline_js();\n",
       "  } else {\n",
       "    load_libs(js_urls, function() {\n",
       "      console.log(\"Bokeh: BokehJS plotting callback run at\", now());\n",
       "      run_inline_js();\n",
       "    });\n",
       "  }\n",
       "}(window));"
      ],
      "application/vnd.bokehjs_load.v0+json": "\n(function(root) {\n  function now() {\n    return new Date();\n  }\n\n  var force = true;\n\n  if (typeof (root._bokeh_onload_callbacks) === \"undefined\" || force === true) {\n    root._bokeh_onload_callbacks = [];\n    root._bokeh_is_loading = undefined;\n  }\n\n  \n\n  \n  if (typeof (root._bokeh_timeout) === \"undefined\" || force === true) {\n    root._bokeh_timeout = Date.now() + 5000;\n    root._bokeh_failed_load = false;\n  }\n\n  var NB_LOAD_WARNING = {'data': {'text/html':\n     \"<div style='background-color: #fdd'>\\n\"+\n     \"<p>\\n\"+\n     \"BokehJS does not appear to have successfully loaded. If loading BokehJS from CDN, this \\n\"+\n     \"may be due to a slow or bad network connection. Possible fixes:\\n\"+\n     \"</p>\\n\"+\n     \"<ul>\\n\"+\n     \"<li>re-rerun `output_notebook()` to attempt to load from CDN again, or</li>\\n\"+\n     \"<li>use INLINE resources instead, as so:</li>\\n\"+\n     \"</ul>\\n\"+\n     \"<code>\\n\"+\n     \"from bokeh.resources import INLINE\\n\"+\n     \"output_notebook(resources=INLINE)\\n\"+\n     \"</code>\\n\"+\n     \"</div>\"}};\n\n  function display_loaded() {\n    var el = document.getElementById(\"9495baa4-8181-4e61-97e2-0da9342012d0\");\n    if (el != null) {\n      el.textContent = \"BokehJS is loading...\";\n    }\n    if (root.Bokeh !== undefined) {\n      if (el != null) {\n        el.textContent = \"BokehJS \" + root.Bokeh.version + \" successfully loaded.\";\n      }\n    } else if (Date.now() < root._bokeh_timeout) {\n      setTimeout(display_loaded, 100)\n    }\n  }\n\n\n  function run_callbacks() {\n    try {\n      root._bokeh_onload_callbacks.forEach(function(callback) { callback() });\n    }\n    finally {\n      delete root._bokeh_onload_callbacks\n    }\n    console.info(\"Bokeh: all callbacks have finished\");\n  }\n\n  function load_libs(js_urls, callback) {\n    root._bokeh_onload_callbacks.push(callback);\n    if (root._bokeh_is_loading > 0) {\n      console.log(\"Bokeh: BokehJS is being loaded, scheduling callback at\", now());\n      return null;\n    }\n    if (js_urls == null || js_urls.length === 0) {\n      run_callbacks();\n      return null;\n    }\n    console.log(\"Bokeh: BokehJS not loaded, scheduling load and callback at\", now());\n    root._bokeh_is_loading = js_urls.length;\n    for (var i = 0; i < js_urls.length; i++) {\n      var url = js_urls[i];\n      var s = document.createElement('script');\n      s.src = url;\n      s.async = false;\n      s.onreadystatechange = s.onload = function() {\n        root._bokeh_is_loading--;\n        if (root._bokeh_is_loading === 0) {\n          console.log(\"Bokeh: all BokehJS libraries loaded\");\n          run_callbacks()\n        }\n      };\n      s.onerror = function() {\n        console.warn(\"failed to load library \" + url);\n      };\n      console.log(\"Bokeh: injecting script tag for BokehJS library: \", url);\n      document.getElementsByTagName(\"head\")[0].appendChild(s);\n    }\n  };var element = document.getElementById(\"9495baa4-8181-4e61-97e2-0da9342012d0\");\n  if (element == null) {\n    console.log(\"Bokeh: ERROR: autoload.js configured with elementid '9495baa4-8181-4e61-97e2-0da9342012d0' but no matching script tag was found. \")\n    return false;\n  }\n\n  var js_urls = [\"https://cdn.pydata.org/bokeh/release/bokeh-0.12.10.min.js\", \"https://cdn.pydata.org/bokeh/release/bokeh-widgets-0.12.10.min.js\", \"https://cdn.pydata.org/bokeh/release/bokeh-tables-0.12.10.min.js\", \"https://cdn.pydata.org/bokeh/release/bokeh-gl-0.12.10.min.js\"];\n\n  var inline_js = [\n    function(Bokeh) {\n      Bokeh.set_log_level(\"info\");\n    },\n    \n    function(Bokeh) {\n      \n    },\n    function(Bokeh) {\n      console.log(\"Bokeh: injecting CSS: https://cdn.pydata.org/bokeh/release/bokeh-0.12.10.min.css\");\n      Bokeh.embed.inject_css(\"https://cdn.pydata.org/bokeh/release/bokeh-0.12.10.min.css\");\n      console.log(\"Bokeh: injecting CSS: https://cdn.pydata.org/bokeh/release/bokeh-widgets-0.12.10.min.css\");\n      Bokeh.embed.inject_css(\"https://cdn.pydata.org/bokeh/release/bokeh-widgets-0.12.10.min.css\");\n      console.log(\"Bokeh: injecting CSS: https://cdn.pydata.org/bokeh/release/bokeh-tables-0.12.10.min.css\");\n      Bokeh.embed.inject_css(\"https://cdn.pydata.org/bokeh/release/bokeh-tables-0.12.10.min.css\");\n    }\n  ];\n\n  function run_inline_js() {\n    \n    if ((root.Bokeh !== undefined) || (force === true)) {\n      for (var i = 0; i < inline_js.length; i++) {\n        inline_js[i].call(root, root.Bokeh);\n      }if (force === true) {\n        display_loaded();\n      }} else if (Date.now() < root._bokeh_timeout) {\n      setTimeout(run_inline_js, 100);\n    } else if (!root._bokeh_failed_load) {\n      console.log(\"Bokeh: BokehJS failed to load within specified timeout.\");\n      root._bokeh_failed_load = true;\n    } else if (force !== true) {\n      var cell = $(document.getElementById(\"9495baa4-8181-4e61-97e2-0da9342012d0\")).parents('.cell').data().cell;\n      cell.output_area.append_execute_result(NB_LOAD_WARNING)\n    }\n\n  }\n\n  if (root._bokeh_is_loading === 0) {\n    console.log(\"Bokeh: BokehJS loaded, going straight to plotting\");\n    run_inline_js();\n  } else {\n    load_libs(js_urls, function() {\n      console.log(\"Bokeh: BokehJS plotting callback run at\", now());\n      run_inline_js();\n    });\n  }\n}(window));"
     },
     "metadata": {},
     "output_type": "display_data"
    }
   ],
   "source": [
    "# Importamos nuestra librerías básicas\n",
    "import numpy as np\n",
    "import pandas as pd\n",
    "import os\n",
    "from sklearn.datasets import fetch_mldata\n",
    "from sklearn.datasets import make_classification\n",
    "from sklearn.preprocessing import StandardScaler\n",
    "from sklearn.linear_model import LogisticRegression\n",
    "from sklearn.model_selection import RandomizedSearchCV\n",
    "\n",
    "import matplotlib.pyplot as plt\n",
    "import seaborn as sns\n",
    "from bokeh.plotting import figure, show, Figure, output_notebook\n",
    "output_notebook()\n",
    "\n",
    "# Este paso es para que los resultados en vuestros notebooks sean iguales a lo de este\n",
    "np.random.seed(42)\n"
   ]
  },
  {
   "cell_type": "markdown",
   "metadata": {
    "slideshow": {
     "slide_type": "slide"
    }
   },
   "source": [
    "# Aprendizaje supervisado - Regresión Logistica\n",
    "\n",
    "En este notebook vamos implementar la clasificación de digitos de la serie MNIST\n",
    "En la mayoría de nuestros ejemplos utilizaremos la librería de Machine Learning \n",
    "Scikit-Learn."
   ]
  },
  {
   "cell_type": "markdown",
   "metadata": {
    "slideshow": {
     "slide_type": "slide"
    }
   },
   "source": [
    "# Como funciona la regresion logistica"
   ]
  },
  {
   "cell_type": "code",
   "execution_count": 2,
   "metadata": {},
   "outputs": [
    {
     "data": {
      "text/html": [
       "\n",
       "<div class=\"bk-root\">\n",
       "    <div class=\"bk-plotdiv\" id=\"b197e61d-e9a5-45dc-87eb-46ed40911e7e\"></div>\n",
       "</div>"
      ]
     },
     "metadata": {},
     "output_type": "display_data"
    },
    {
     "data": {
      "application/javascript": [
       "(function(root) {\n",
       "  function embed_document(root) {\n",
       "    var docs_json = {\"499816fa-b0b2-4a46-94e9-3a4f58080999\":{\"roots\":{\"references\":[{\"attributes\":{\"callback\":null},\"id\":\"2df3820f-f32c-4d96-9321-9c94879fc52e\",\"type\":\"DataRange1d\"},{\"attributes\":{\"callback\":null},\"id\":\"4a786e26-7c9f-477b-bbff-44eb0d14c7a6\",\"type\":\"DataRange1d\"},{\"attributes\":{},\"id\":\"ead4b8f6-016e-41c5-9e66-91093a6dc7ff\",\"type\":\"LinearScale\"},{\"attributes\":{},\"id\":\"79f0377d-0da9-42b0-b094-6f2803b40978\",\"type\":\"LinearScale\"},{\"attributes\":{\"axis_label\":\"Primera prueba\",\"formatter\":{\"id\":\"8f27d464-3d85-4ddb-a144-9c82fa856e2e\",\"type\":\"BasicTickFormatter\"},\"plot\":{\"id\":\"a9451c08-9130-46a9-b9e3-bdd614ec339c\",\"subtype\":\"Figure\",\"type\":\"Plot\"},\"ticker\":{\"id\":\"115025b7-e244-455e-9be5-c804caf433f4\",\"type\":\"BasicTicker\"}},\"id\":\"e6ffd080-88fc-4552-ad9a-f4b5099b2917\",\"type\":\"LinearAxis\"},{\"attributes\":{},\"id\":\"115025b7-e244-455e-9be5-c804caf433f4\",\"type\":\"BasicTicker\"},{\"attributes\":{\"plot\":{\"id\":\"a9451c08-9130-46a9-b9e3-bdd614ec339c\",\"subtype\":\"Figure\",\"type\":\"Plot\"},\"ticker\":{\"id\":\"115025b7-e244-455e-9be5-c804caf433f4\",\"type\":\"BasicTicker\"}},\"id\":\"941b272c-63ce-4284-aa65-9d5d518a7b55\",\"type\":\"Grid\"},{\"attributes\":{\"axis_label\":\"Segunda prueba\",\"formatter\":{\"id\":\"05321835-42ab-4626-a6a7-414690081e72\",\"type\":\"BasicTickFormatter\"},\"plot\":{\"id\":\"a9451c08-9130-46a9-b9e3-bdd614ec339c\",\"subtype\":\"Figure\",\"type\":\"Plot\"},\"ticker\":{\"id\":\"9e1df3a8-e674-4746-9f4f-f38c76b0e59e\",\"type\":\"BasicTicker\"}},\"id\":\"809a8774-07d6-4b4a-b6fa-4f17069a651f\",\"type\":\"LinearAxis\"},{\"attributes\":{},\"id\":\"9e1df3a8-e674-4746-9f4f-f38c76b0e59e\",\"type\":\"BasicTicker\"},{\"attributes\":{\"dimension\":1,\"plot\":{\"id\":\"a9451c08-9130-46a9-b9e3-bdd614ec339c\",\"subtype\":\"Figure\",\"type\":\"Plot\"},\"ticker\":{\"id\":\"9e1df3a8-e674-4746-9f4f-f38c76b0e59e\",\"type\":\"BasicTicker\"}},\"id\":\"49003ff5-ed17-4797-99fb-82089c70c225\",\"type\":\"Grid\"},{\"attributes\":{\"bottom_units\":\"screen\",\"fill_alpha\":{\"value\":0.5},\"fill_color\":{\"value\":\"lightgrey\"},\"left_units\":\"screen\",\"level\":\"overlay\",\"line_alpha\":{\"value\":1.0},\"line_color\":{\"value\":\"black\"},\"line_dash\":[4,4],\"line_width\":{\"value\":2},\"plot\":null,\"render_mode\":\"css\",\"right_units\":\"screen\",\"top_units\":\"screen\"},\"id\":\"339b1da5-4deb-40a9-be48-3bc8eedf74ac\",\"type\":\"BoxAnnotation\"},{\"attributes\":{\"callback\":null,\"column_names\":[\"x\",\"y\"],\"data\":{\"x\":{\"__ndarray__\":\"oBYmUIXT9T+m5/ZMljn6P5w/92xv+/0/cgXWbkur9z+TTNtVksniv8BLUJZ2CPW/f/osRqgz3D8iwwIKfWP1v52xENFq2+c/d10Iaz0IxL8nD4XJ4N3YP6jrGRdgSbi/SGkb/WKk6b+gtSojvvbnv3wfciyVbuG/XuVHQhe/vL/v7znc3pbdv/qsO6B0Uc2/\",\"dtype\":\"float64\",\"shape\":[18]},\"y\":{\"__ndarray__\":\"6KLMGfA39b/MCSBa9rfyv/RKFl8E6ea/X8hlJXf3578M8AYN1Ovbv28AejCvlvq/YexOg9ka2b8y/RLNvS4BwEhL/+acg+i/a6RqZule4L8kaKW8Lujpv5CIatEXWuq/IJesKjZ+8L+kILIjeKvfv/JgudJ1RnG/ugvrT9Mo6j8Bl5XWJ/zHv4WUGEYNNNK/\",\"dtype\":\"float64\",\"shape\":[18]}}},\"id\":\"4b4b080a-382c-482e-9393-29d2fe4f3b01\",\"type\":\"ColumnDataSource\"},{\"attributes\":{\"fill_alpha\":{\"value\":0.1},\"fill_color\":{\"value\":\"#1f77b4\"},\"line_alpha\":{\"value\":0.1},\"line_color\":{\"value\":\"#1f77b4\"},\"x\":{\"field\":\"x\"},\"y\":{\"field\":\"y\"}},\"id\":\"9f1048e5-aa4f-4d7e-bb7e-b9ecefc1859c\",\"type\":\"Circle\"},{\"attributes\":{},\"id\":\"2c86fb81-dfe3-4f01-a4e5-dad83a914e4f\",\"type\":\"PanTool\"},{\"attributes\":{\"source\":{\"id\":\"4b4b080a-382c-482e-9393-29d2fe4f3b01\",\"type\":\"ColumnDataSource\"}},\"id\":\"a5727f3d-da95-43c4-8f34-de8e0482b7d5\",\"type\":\"CDSView\"},{\"attributes\":{},\"id\":\"a2faf9f5-6058-4e41-b019-ab848dd7ccad\",\"type\":\"WheelZoomTool\"},{\"attributes\":{\"overlay\":{\"id\":\"339b1da5-4deb-40a9-be48-3bc8eedf74ac\",\"type\":\"BoxAnnotation\"}},\"id\":\"09e1b7b1-be9f-43ab-bd08-2378f52e14bd\",\"type\":\"BoxZoomTool\"},{\"attributes\":{},\"id\":\"5fd83aad-6833-450d-986d-35eaa760744e\",\"type\":\"SaveTool\"},{\"attributes\":{},\"id\":\"b927f0f0-4c8e-44a1-bb36-d0cb8834e790\",\"type\":\"ResetTool\"},{\"attributes\":{\"fill_color\":{\"value\":\"red\"},\"line_color\":{\"value\":\"red\"},\"x\":{\"field\":\"x\"},\"y\":{\"field\":\"y\"}},\"id\":\"ed8c4e30-9b15-4d5e-becc-2deff411fcb5\",\"type\":\"Circle\"},{\"attributes\":{},\"id\":\"25fc6d4a-22f7-46c0-a936-c3e8ce195c7c\",\"type\":\"HelpTool\"},{\"attributes\":{\"data_source\":{\"id\":\"4b4b080a-382c-482e-9393-29d2fe4f3b01\",\"type\":\"ColumnDataSource\"},\"glyph\":{\"id\":\"ed8c4e30-9b15-4d5e-becc-2deff411fcb5\",\"type\":\"Circle\"},\"hover_glyph\":null,\"muted_glyph\":null,\"nonselection_glyph\":{\"id\":\"9f1048e5-aa4f-4d7e-bb7e-b9ecefc1859c\",\"type\":\"Circle\"},\"selection_glyph\":null,\"view\":{\"id\":\"a5727f3d-da95-43c4-8f34-de8e0482b7d5\",\"type\":\"CDSView\"}},\"id\":\"ebd04134-121e-4abe-922d-152fbfec5ff6\",\"type\":\"GlyphRenderer\"},{\"attributes\":{},\"id\":\"05321835-42ab-4626-a6a7-414690081e72\",\"type\":\"BasicTickFormatter\"},{\"attributes\":{\"fill_color\":{\"value\":\"blue\"},\"line_color\":{\"value\":\"blue\"},\"x\":{\"field\":\"x\"},\"y\":{\"field\":\"y\"}},\"id\":\"777508cb-1baf-406d-bc8f-bd04306a9787\",\"type\":\"Circle\"},{\"attributes\":{\"data_source\":{\"id\":\"f08dadeb-c868-41b4-86de-00363cccb13e\",\"type\":\"ColumnDataSource\"},\"glyph\":{\"id\":\"777508cb-1baf-406d-bc8f-bd04306a9787\",\"type\":\"Circle\"},\"hover_glyph\":null,\"muted_glyph\":null,\"nonselection_glyph\":{\"id\":\"8a8cc4ff-4bcc-4910-a5c1-6d3dcf33985c\",\"type\":\"Circle\"},\"selection_glyph\":null,\"view\":{\"id\":\"8f4eecc5-8d13-4d79-b5f2-a0cff9bd14d6\",\"type\":\"CDSView\"}},\"id\":\"fd5c9b55-9d84-4ace-91a2-22eba433ef71\",\"type\":\"GlyphRenderer\"},{\"attributes\":{\"below\":[{\"id\":\"e6ffd080-88fc-4552-ad9a-f4b5099b2917\",\"type\":\"LinearAxis\"}],\"left\":[{\"id\":\"809a8774-07d6-4b4a-b6fa-4f17069a651f\",\"type\":\"LinearAxis\"}],\"plot_height\":450,\"plot_width\":450,\"renderers\":[{\"id\":\"e6ffd080-88fc-4552-ad9a-f4b5099b2917\",\"type\":\"LinearAxis\"},{\"id\":\"941b272c-63ce-4284-aa65-9d5d518a7b55\",\"type\":\"Grid\"},{\"id\":\"809a8774-07d6-4b4a-b6fa-4f17069a651f\",\"type\":\"LinearAxis\"},{\"id\":\"49003ff5-ed17-4797-99fb-82089c70c225\",\"type\":\"Grid\"},{\"id\":\"339b1da5-4deb-40a9-be48-3bc8eedf74ac\",\"type\":\"BoxAnnotation\"},{\"id\":\"ebd04134-121e-4abe-922d-152fbfec5ff6\",\"type\":\"GlyphRenderer\"},{\"id\":\"fd5c9b55-9d84-4ace-91a2-22eba433ef71\",\"type\":\"GlyphRenderer\"}],\"title\":{\"id\":\"57cec3b7-9e06-445a-8292-a7d63a494a5a\",\"type\":\"Title\"},\"toolbar\":{\"id\":\"5258d4e4-e0d4-4257-b618-781f57a61363\",\"type\":\"Toolbar\"},\"x_range\":{\"id\":\"2df3820f-f32c-4d96-9321-9c94879fc52e\",\"type\":\"DataRange1d\"},\"x_scale\":{\"id\":\"ead4b8f6-016e-41c5-9e66-91093a6dc7ff\",\"type\":\"LinearScale\"},\"y_range\":{\"id\":\"4a786e26-7c9f-477b-bbff-44eb0d14c7a6\",\"type\":\"DataRange1d\"},\"y_scale\":{\"id\":\"79f0377d-0da9-42b0-b094-6f2803b40978\",\"type\":\"LinearScale\"}},\"id\":\"a9451c08-9130-46a9-b9e3-bdd614ec339c\",\"subtype\":\"Figure\",\"type\":\"Plot\"},{\"attributes\":{\"plot\":null,\"text\":\"\"},\"id\":\"57cec3b7-9e06-445a-8292-a7d63a494a5a\",\"type\":\"Title\"},{\"attributes\":{\"fill_alpha\":{\"value\":0.1},\"fill_color\":{\"value\":\"#1f77b4\"},\"line_alpha\":{\"value\":0.1},\"line_color\":{\"value\":\"#1f77b4\"},\"x\":{\"field\":\"x\"},\"y\":{\"field\":\"y\"}},\"id\":\"8a8cc4ff-4bcc-4910-a5c1-6d3dcf33985c\",\"type\":\"Circle\"},{\"attributes\":{},\"id\":\"8f27d464-3d85-4ddb-a144-9c82fa856e2e\",\"type\":\"BasicTickFormatter\"},{\"attributes\":{\"source\":{\"id\":\"f08dadeb-c868-41b4-86de-00363cccb13e\",\"type\":\"ColumnDataSource\"}},\"id\":\"8f4eecc5-8d13-4d79-b5f2-a0cff9bd14d6\",\"type\":\"CDSView\"},{\"attributes\":{\"callback\":null,\"column_names\":[\"x\",\"y\"],\"data\":{\"x\":{\"__ndarray__\":\"pJCaKSlg3D/KsgG2/Zbsv7GGrKDUz+q/zNbV/6yW1b8ZLHiFQwj0P+jF022rF+w/5V/jNB/x7j+oK9eRBFrtPw7+4s8fffG/6yNk1Kdj+L/k7CNXqbD9v//wuG3eU+E/\",\"dtype\":\"float64\",\"shape\":[12]},\"y\":{\"__ndarray__\":\"verbI40U8j804dkeSgjpP+WB5ciCLe4/494snCEw9z+5AmVG1mjuP/Kf4D9p2/Q/6yH00El57j9b448VEwjyP3/OXs+IX+4/BUsM4ciu8j+J5rUy1L3tP/wMUClBKfA/\",\"dtype\":\"float64\",\"shape\":[12]}}},\"id\":\"f08dadeb-c868-41b4-86de-00363cccb13e\",\"type\":\"ColumnDataSource\"},{\"attributes\":{\"active_drag\":\"auto\",\"active_inspect\":\"auto\",\"active_scroll\":\"auto\",\"active_tap\":\"auto\",\"tools\":[{\"id\":\"2c86fb81-dfe3-4f01-a4e5-dad83a914e4f\",\"type\":\"PanTool\"},{\"id\":\"a2faf9f5-6058-4e41-b019-ab848dd7ccad\",\"type\":\"WheelZoomTool\"},{\"id\":\"09e1b7b1-be9f-43ab-bd08-2378f52e14bd\",\"type\":\"BoxZoomTool\"},{\"id\":\"5fd83aad-6833-450d-986d-35eaa760744e\",\"type\":\"SaveTool\"},{\"id\":\"b927f0f0-4c8e-44a1-bb36-d0cb8834e790\",\"type\":\"ResetTool\"},{\"id\":\"25fc6d4a-22f7-46c0-a936-c3e8ce195c7c\",\"type\":\"HelpTool\"}]},\"id\":\"5258d4e4-e0d4-4257-b618-781f57a61363\",\"type\":\"Toolbar\"}],\"root_ids\":[\"a9451c08-9130-46a9-b9e3-bdd614ec339c\"]},\"title\":\"Bokeh Application\",\"version\":\"0.12.10\"}};\n",
       "    var render_items = [{\"docid\":\"499816fa-b0b2-4a46-94e9-3a4f58080999\",\"elementid\":\"b197e61d-e9a5-45dc-87eb-46ed40911e7e\",\"modelid\":\"a9451c08-9130-46a9-b9e3-bdd614ec339c\"}];\n",
       "\n",
       "    root.Bokeh.embed.embed_items(docs_json, render_items);\n",
       "  }\n",
       "\n",
       "  if (root.Bokeh !== undefined) {\n",
       "    embed_document(root);\n",
       "  } else {\n",
       "    var attempts = 0;\n",
       "    var timer = setInterval(function(root) {\n",
       "      if (root.Bokeh !== undefined) {\n",
       "        embed_document(root);\n",
       "        clearInterval(timer);\n",
       "      }\n",
       "      attempts++;\n",
       "      if (attempts > 100) {\n",
       "        console.log(\"Bokeh: ERROR: Unable to embed document because BokehJS library is missing\")\n",
       "        clearInterval(timer);\n",
       "      }\n",
       "    }, 10, root)\n",
       "  }\n",
       "})(window);"
      ],
      "application/vnd.bokehjs_exec.v0+json": ""
     },
     "metadata": {
      "application/vnd.bokehjs_exec.v0+json": {
       "id": "a9451c08-9130-46a9-b9e3-bdd614ec339c"
      }
     },
     "output_type": "display_data"
    }
   ],
   "source": [
    "# Para empezar creamos un dataset ejemplo con sklearn\n",
    "data = make_classification(n_samples=30, n_features=2, n_informative=2, n_redundant=0,\n",
    "                           weights=[.6, .4], random_state=42)\n",
    "\n",
    "# Separo entre *features* y el objetivo\n",
    "scale = StandardScaler().fit(data[0])\n",
    "features = scale.transform(data[0])\n",
    "target = data[1]\n",
    "\n",
    "# Dibujo las muestras\n",
    "p = figure(height=450, width=450)\n",
    "p.xaxis.axis_label = \"Primera prueba\"\n",
    "p.yaxis.axis_label = \"Segunda prueba\"\n",
    "nok = features[target == 0]\n",
    "ok = features[target == 1]\n",
    "p.scatter(nok[:,0], nok[:,1], color=\"red\")\n",
    "p.scatter(ok[:,0], ok[:,1], color = \"blue\")\n",
    "show(p)"
   ]
  },
  {
   "cell_type": "markdown",
   "metadata": {
    "slideshow": {
     "slide_type": "slide"
    }
   },
   "source": [
    "# Aplicamos la regresión logísitica para separar las muestras"
   ]
  },
  {
   "cell_type": "code",
   "execution_count": 3,
   "metadata": {},
   "outputs": [
    {
     "data": {
      "text/html": [
       "\n",
       "<div class=\"bk-root\">\n",
       "    <div class=\"bk-plotdiv\" id=\"13f9de7e-4240-45aa-859f-6358c216a948\"></div>\n",
       "</div>"
      ]
     },
     "metadata": {},
     "output_type": "display_data"
    },
    {
     "data": {
      "application/javascript": [
       "(function(root) {\n",
       "  function embed_document(root) {\n",
       "    var docs_json = {\"7c177e7f-8774-427d-ab8d-4d21136431d8\":{\"roots\":{\"references\":[{\"attributes\":{\"dimension\":1,\"plot\":{\"id\":\"a9f7b1ef-4e88-4e64-af68-0ed3c2b7383f\",\"subtype\":\"Figure\",\"type\":\"Plot\"},\"ticker\":{\"id\":\"f078db77-b604-4ce1-907f-1b983bda17c0\",\"type\":\"BasicTicker\"}},\"id\":\"fea3d4fb-1583-42f5-a77e-e0c81a39d0d3\",\"type\":\"Grid\"},{\"attributes\":{\"source\":{\"id\":\"840740ff-a985-419a-a794-c9e64af07a99\",\"type\":\"ColumnDataSource\"}},\"id\":\"a8deb466-07c7-4c02-bb65-a99cb65d7ce2\",\"type\":\"CDSView\"},{\"attributes\":{\"data_source\":{\"id\":\"840740ff-a985-419a-a794-c9e64af07a99\",\"type\":\"ColumnDataSource\"},\"glyph\":{\"id\":\"0b00e27f-bf84-4684-8b73-8f9f7db82917\",\"type\":\"Circle\"},\"hover_glyph\":null,\"muted_glyph\":null,\"nonselection_glyph\":{\"id\":\"2e3f3dba-5add-4311-89fc-bafdee42e51b\",\"type\":\"Circle\"},\"selection_glyph\":null,\"view\":{\"id\":\"a8deb466-07c7-4c02-bb65-a99cb65d7ce2\",\"type\":\"CDSView\"}},\"id\":\"20fb4cd9-7fd5-4013-857b-949a994fa1c6\",\"type\":\"GlyphRenderer\"},{\"attributes\":{\"fill_alpha\":{\"value\":0.1},\"fill_color\":{\"value\":\"#1f77b4\"},\"line_alpha\":{\"value\":0.1},\"line_color\":{\"value\":\"#1f77b4\"},\"x\":{\"field\":\"x\"},\"y\":{\"field\":\"y\"}},\"id\":\"2e3f3dba-5add-4311-89fc-bafdee42e51b\",\"type\":\"Circle\"},{\"attributes\":{},\"id\":\"7a4c886d-d5f5-4389-a577-fc327c7fc8ca\",\"type\":\"BasicTickFormatter\"},{\"attributes\":{\"bottom_units\":\"screen\",\"fill_alpha\":{\"value\":0.5},\"fill_color\":{\"value\":\"lightgrey\"},\"left_units\":\"screen\",\"level\":\"overlay\",\"line_alpha\":{\"value\":1.0},\"line_color\":{\"value\":\"black\"},\"line_dash\":[4,4],\"line_width\":{\"value\":2},\"plot\":null,\"render_mode\":\"css\",\"right_units\":\"screen\",\"top_units\":\"screen\"},\"id\":\"a19a8a73-20a7-4d9b-83d7-f33429c2975f\",\"type\":\"BoxAnnotation\"},{\"attributes\":{},\"id\":\"955cc0a9-948f-4918-b092-0018f9a36a6c\",\"type\":\"PanTool\"},{\"attributes\":{},\"id\":\"ed920d01-b279-43bd-89ad-da47bf7f1486\",\"type\":\"BasicTickFormatter\"},{\"attributes\":{},\"id\":\"db1e8306-945a-46e6-88c9-c36010bc65e0\",\"type\":\"WheelZoomTool\"},{\"attributes\":{\"overlay\":{\"id\":\"a19a8a73-20a7-4d9b-83d7-f33429c2975f\",\"type\":\"BoxAnnotation\"}},\"id\":\"99c55d6d-2170-4caf-8b09-77fc7d1effd0\",\"type\":\"BoxZoomTool\"},{\"attributes\":{},\"id\":\"0b28f5f8-091d-4b68-9dc7-761ddf3385bd\",\"type\":\"SaveTool\"},{\"attributes\":{},\"id\":\"f078db77-b604-4ce1-907f-1b983bda17c0\",\"type\":\"BasicTicker\"},{\"attributes\":{\"active_drag\":\"auto\",\"active_inspect\":\"auto\",\"active_scroll\":\"auto\",\"active_tap\":\"auto\",\"tools\":[{\"id\":\"955cc0a9-948f-4918-b092-0018f9a36a6c\",\"type\":\"PanTool\"},{\"id\":\"db1e8306-945a-46e6-88c9-c36010bc65e0\",\"type\":\"WheelZoomTool\"},{\"id\":\"99c55d6d-2170-4caf-8b09-77fc7d1effd0\",\"type\":\"BoxZoomTool\"},{\"id\":\"0b28f5f8-091d-4b68-9dc7-761ddf3385bd\",\"type\":\"SaveTool\"},{\"id\":\"85a6f44d-4161-4efe-9300-b93d5f648945\",\"type\":\"ResetTool\"},{\"id\":\"ba6ceee4-19fa-4d0e-9fd2-7586c69edc6c\",\"type\":\"HelpTool\"}]},\"id\":\"97e61fef-fd43-465e-80f9-3c3cb2a3a41b\",\"type\":\"Toolbar\"},{\"attributes\":{},\"id\":\"85a6f44d-4161-4efe-9300-b93d5f648945\",\"type\":\"ResetTool\"},{\"attributes\":{},\"id\":\"ba6ceee4-19fa-4d0e-9fd2-7586c69edc6c\",\"type\":\"HelpTool\"},{\"attributes\":{\"data_source\":{\"id\":\"f36c182a-10f9-417d-9689-cab715e80c7c\",\"type\":\"ColumnDataSource\"},\"glyph\":{\"id\":\"3461c736-7c69-4cb8-8c1e-921275b320f8\",\"type\":\"Line\"},\"hover_glyph\":null,\"muted_glyph\":null,\"nonselection_glyph\":{\"id\":\"00d4f810-b43f-4fbb-a555-522bf2082438\",\"type\":\"Line\"},\"selection_glyph\":null,\"view\":{\"id\":\"c1250dd1-5151-4602-96c6-618005694d96\",\"type\":\"CDSView\"}},\"id\":\"2f994fe7-d721-4ae5-850f-703de63f8b8d\",\"type\":\"GlyphRenderer\"},{\"attributes\":{\"plot\":null,\"text\":\"\"},\"id\":\"394437fe-8cea-4d09-b5e6-53e5cc341887\",\"type\":\"Title\"},{\"attributes\":{\"line_color\":{\"value\":\"#1f77b4\"},\"x\":{\"field\":\"x\"},\"y\":{\"field\":\"y\"}},\"id\":\"3461c736-7c69-4cb8-8c1e-921275b320f8\",\"type\":\"Line\"},{\"attributes\":{\"fill_color\":{\"value\":\"blue\"},\"line_color\":{\"value\":\"blue\"},\"x\":{\"field\":\"x\"},\"y\":{\"field\":\"y\"}},\"id\":\"37c0075e-8160-463a-869c-3aeecb25c82b\",\"type\":\"Circle\"},{\"attributes\":{\"data_source\":{\"id\":\"81a10755-22bb-4def-a8d9-a72233dbdbc9\",\"type\":\"ColumnDataSource\"},\"glyph\":{\"id\":\"37c0075e-8160-463a-869c-3aeecb25c82b\",\"type\":\"Circle\"},\"hover_glyph\":null,\"muted_glyph\":null,\"nonselection_glyph\":{\"id\":\"e3ee10aa-16f2-4c50-a009-79546ca2d0a7\",\"type\":\"Circle\"},\"selection_glyph\":null,\"view\":{\"id\":\"4221fa41-69cb-4bc3-9645-1b2a011ce9cc\",\"type\":\"CDSView\"}},\"id\":\"3d1c46d2-28c9-4e2d-9fbf-1b63edacf9b6\",\"type\":\"GlyphRenderer\"},{\"attributes\":{\"fill_alpha\":{\"value\":0.1},\"fill_color\":{\"value\":\"#1f77b4\"},\"line_alpha\":{\"value\":0.1},\"line_color\":{\"value\":\"#1f77b4\"},\"x\":{\"field\":\"x\"},\"y\":{\"field\":\"y\"}},\"id\":\"e3ee10aa-16f2-4c50-a009-79546ca2d0a7\",\"type\":\"Circle\"},{\"attributes\":{\"fill_color\":{\"value\":\"red\"},\"line_color\":{\"value\":\"red\"},\"x\":{\"field\":\"x\"},\"y\":{\"field\":\"y\"}},\"id\":\"0b00e27f-bf84-4684-8b73-8f9f7db82917\",\"type\":\"Circle\"},{\"attributes\":{\"line_alpha\":{\"value\":0.1},\"line_color\":{\"value\":\"#1f77b4\"},\"x\":{\"field\":\"x\"},\"y\":{\"field\":\"y\"}},\"id\":\"00d4f810-b43f-4fbb-a555-522bf2082438\",\"type\":\"Line\"},{\"attributes\":{},\"id\":\"243136a3-23f9-4aab-b1ec-7a248d8bef92\",\"type\":\"BasicTicker\"},{\"attributes\":{\"source\":{\"id\":\"81a10755-22bb-4def-a8d9-a72233dbdbc9\",\"type\":\"ColumnDataSource\"}},\"id\":\"4221fa41-69cb-4bc3-9645-1b2a011ce9cc\",\"type\":\"CDSView\"},{\"attributes\":{\"source\":{\"id\":\"f36c182a-10f9-417d-9689-cab715e80c7c\",\"type\":\"ColumnDataSource\"}},\"id\":\"c1250dd1-5151-4602-96c6-618005694d96\",\"type\":\"CDSView\"},{\"attributes\":{\"callback\":null,\"column_names\":[\"x\",\"y\"],\"data\":{\"x\":{\"__ndarray__\":\"pJCaKSlg3D/KsgG2/Zbsv7GGrKDUz+q/zNbV/6yW1b8ZLHiFQwj0P+jF022rF+w/5V/jNB/x7j+oK9eRBFrtPw7+4s8fffG/6yNk1Kdj+L/k7CNXqbD9v//wuG3eU+E/\",\"dtype\":\"float64\",\"shape\":[12]},\"y\":{\"__ndarray__\":\"verbI40U8j804dkeSgjpP+WB5ciCLe4/494snCEw9z+5AmVG1mjuP/Kf4D9p2/Q/6yH00El57j9b448VEwjyP3/OXs+IX+4/BUsM4ciu8j+J5rUy1L3tP/wMUClBKfA/\",\"dtype\":\"float64\",\"shape\":[12]}}},\"id\":\"81a10755-22bb-4def-a8d9-a72233dbdbc9\",\"type\":\"ColumnDataSource\"},{\"attributes\":{\"callback\":null,\"column_names\":[\"x\",\"y\"],\"data\":{\"x\":{\"__ndarray__\":\"/v///wIAAAA=\",\"dtype\":\"int32\",\"shape\":[2]},\"y\":{\"__ndarray__\":\"A9KMf4dT0D9Wy3Ais9fXPw==\",\"dtype\":\"float64\",\"shape\":[2]}}},\"id\":\"f36c182a-10f9-417d-9689-cab715e80c7c\",\"type\":\"ColumnDataSource\"},{\"attributes\":{\"callback\":null,\"column_names\":[\"x\",\"y\"],\"data\":{\"x\":{\"__ndarray__\":\"oBYmUIXT9T+m5/ZMljn6P5w/92xv+/0/cgXWbkur9z+TTNtVksniv8BLUJZ2CPW/f/osRqgz3D8iwwIKfWP1v52xENFq2+c/d10Iaz0IxL8nD4XJ4N3YP6jrGRdgSbi/SGkb/WKk6b+gtSojvvbnv3wfciyVbuG/XuVHQhe/vL/v7znc3pbdv/qsO6B0Uc2/\",\"dtype\":\"float64\",\"shape\":[18]},\"y\":{\"__ndarray__\":\"6KLMGfA39b/MCSBa9rfyv/RKFl8E6ea/X8hlJXf3578M8AYN1Ovbv28AejCvlvq/YexOg9ka2b8y/RLNvS4BwEhL/+acg+i/a6RqZule4L8kaKW8Lujpv5CIatEXWuq/IJesKjZ+8L+kILIjeKvfv/JgudJ1RnG/ugvrT9Mo6j8Bl5XWJ/zHv4WUGEYNNNK/\",\"dtype\":\"float64\",\"shape\":[18]}}},\"id\":\"840740ff-a985-419a-a794-c9e64af07a99\",\"type\":\"ColumnDataSource\"},{\"attributes\":{\"callback\":null},\"id\":\"8eb37a32-f9d0-48d1-a180-26afea7f330a\",\"type\":\"DataRange1d\"},{\"attributes\":{\"axis_label\":\"Primera prueba\",\"formatter\":{\"id\":\"ed920d01-b279-43bd-89ad-da47bf7f1486\",\"type\":\"BasicTickFormatter\"},\"plot\":{\"id\":\"a9f7b1ef-4e88-4e64-af68-0ed3c2b7383f\",\"subtype\":\"Figure\",\"type\":\"Plot\"},\"ticker\":{\"id\":\"243136a3-23f9-4aab-b1ec-7a248d8bef92\",\"type\":\"BasicTicker\"}},\"id\":\"4b423621-fb86-4c20-af08-b2ee10985132\",\"type\":\"LinearAxis\"},{\"attributes\":{\"plot\":{\"id\":\"a9f7b1ef-4e88-4e64-af68-0ed3c2b7383f\",\"subtype\":\"Figure\",\"type\":\"Plot\"},\"ticker\":{\"id\":\"243136a3-23f9-4aab-b1ec-7a248d8bef92\",\"type\":\"BasicTicker\"}},\"id\":\"c3e59053-d4c6-4aad-be4c-17359cfa5e8d\",\"type\":\"Grid\"},{\"attributes\":{\"callback\":null},\"id\":\"490ea59d-74ec-4b6a-97a7-e89757d03da4\",\"type\":\"DataRange1d\"},{\"attributes\":{},\"id\":\"dcfc8ad9-188e-440a-a51a-aa52c2c7fccd\",\"type\":\"LinearScale\"},{\"attributes\":{\"below\":[{\"id\":\"4b423621-fb86-4c20-af08-b2ee10985132\",\"type\":\"LinearAxis\"}],\"left\":[{\"id\":\"62498d14-7a31-400c-9f74-dd8038eee4b9\",\"type\":\"LinearAxis\"}],\"plot_height\":450,\"plot_width\":450,\"renderers\":[{\"id\":\"4b423621-fb86-4c20-af08-b2ee10985132\",\"type\":\"LinearAxis\"},{\"id\":\"c3e59053-d4c6-4aad-be4c-17359cfa5e8d\",\"type\":\"Grid\"},{\"id\":\"62498d14-7a31-400c-9f74-dd8038eee4b9\",\"type\":\"LinearAxis\"},{\"id\":\"fea3d4fb-1583-42f5-a77e-e0c81a39d0d3\",\"type\":\"Grid\"},{\"id\":\"a19a8a73-20a7-4d9b-83d7-f33429c2975f\",\"type\":\"BoxAnnotation\"},{\"id\":\"20fb4cd9-7fd5-4013-857b-949a994fa1c6\",\"type\":\"GlyphRenderer\"},{\"id\":\"3d1c46d2-28c9-4e2d-9fbf-1b63edacf9b6\",\"type\":\"GlyphRenderer\"},{\"id\":\"2f994fe7-d721-4ae5-850f-703de63f8b8d\",\"type\":\"GlyphRenderer\"}],\"title\":{\"id\":\"394437fe-8cea-4d09-b5e6-53e5cc341887\",\"type\":\"Title\"},\"toolbar\":{\"id\":\"97e61fef-fd43-465e-80f9-3c3cb2a3a41b\",\"type\":\"Toolbar\"},\"x_range\":{\"id\":\"8eb37a32-f9d0-48d1-a180-26afea7f330a\",\"type\":\"DataRange1d\"},\"x_scale\":{\"id\":\"dcfc8ad9-188e-440a-a51a-aa52c2c7fccd\",\"type\":\"LinearScale\"},\"y_range\":{\"id\":\"490ea59d-74ec-4b6a-97a7-e89757d03da4\",\"type\":\"DataRange1d\"},\"y_scale\":{\"id\":\"781da8c9-4955-45b3-affa-8f2c98aeabd3\",\"type\":\"LinearScale\"}},\"id\":\"a9f7b1ef-4e88-4e64-af68-0ed3c2b7383f\",\"subtype\":\"Figure\",\"type\":\"Plot\"},{\"attributes\":{},\"id\":\"781da8c9-4955-45b3-affa-8f2c98aeabd3\",\"type\":\"LinearScale\"},{\"attributes\":{\"axis_label\":\"Segunda prueba\",\"formatter\":{\"id\":\"7a4c886d-d5f5-4389-a577-fc327c7fc8ca\",\"type\":\"BasicTickFormatter\"},\"plot\":{\"id\":\"a9f7b1ef-4e88-4e64-af68-0ed3c2b7383f\",\"subtype\":\"Figure\",\"type\":\"Plot\"},\"ticker\":{\"id\":\"f078db77-b604-4ce1-907f-1b983bda17c0\",\"type\":\"BasicTicker\"}},\"id\":\"62498d14-7a31-400c-9f74-dd8038eee4b9\",\"type\":\"LinearAxis\"}],\"root_ids\":[\"a9f7b1ef-4e88-4e64-af68-0ed3c2b7383f\"]},\"title\":\"Bokeh Application\",\"version\":\"0.12.10\"}};\n",
       "    var render_items = [{\"docid\":\"7c177e7f-8774-427d-ab8d-4d21136431d8\",\"elementid\":\"13f9de7e-4240-45aa-859f-6358c216a948\",\"modelid\":\"a9f7b1ef-4e88-4e64-af68-0ed3c2b7383f\"}];\n",
       "\n",
       "    root.Bokeh.embed.embed_items(docs_json, render_items);\n",
       "  }\n",
       "\n",
       "  if (root.Bokeh !== undefined) {\n",
       "    embed_document(root);\n",
       "  } else {\n",
       "    var attempts = 0;\n",
       "    var timer = setInterval(function(root) {\n",
       "      if (root.Bokeh !== undefined) {\n",
       "        embed_document(root);\n",
       "        clearInterval(timer);\n",
       "      }\n",
       "      attempts++;\n",
       "      if (attempts > 100) {\n",
       "        console.log(\"Bokeh: ERROR: Unable to embed document because BokehJS library is missing\")\n",
       "        clearInterval(timer);\n",
       "      }\n",
       "    }, 10, root)\n",
       "  }\n",
       "})(window);"
      ],
      "application/vnd.bokehjs_exec.v0+json": ""
     },
     "metadata": {
      "application/vnd.bokehjs_exec.v0+json": {
       "id": "a9f7b1ef-4e88-4e64-af68-0ed3c2b7383f"
      }
     },
     "output_type": "display_data"
    }
   ],
   "source": [
    "# Aplicamos la regresión logistica\n",
    "log_reg = LogisticRegression().fit(features, target)\n",
    "# Volvemos a dibujar las muestras\n",
    "p = figure(height=450, width=450)\n",
    "p.xaxis.axis_label = \"Primera prueba\"\n",
    "p.yaxis.axis_label = \"Segunda prueba\"\n",
    "nok = features[target == 0]\n",
    "aok = features[target == 1]\n",
    "p.scatter(nok[:,0], nok[:,1], color=\"red\")\n",
    "p.scatter(ok[:,0], ok[:,1], color = \"blue\")\n",
    "# Dibujamos la frontera de decisión\n",
    "w0 = log_reg.intercept_\n",
    "w1, w2 = log_reg.coef_[0]\n",
    "lin = np.array([-2,2])\n",
    "p.line(lin, (-w0-w1*lin)/w2)\n",
    "show(p)"
   ]
  },
  {
   "cell_type": "markdown",
   "metadata": {
    "slideshow": {
     "slide_type": "slide"
    }
   },
   "source": [
    "# Ahora vamos aplicar la regresión logística a un dataset más complicado"
   ]
  },
  {
   "cell_type": "code",
   "execution_count": 4,
   "metadata": {
    "collapsed": true
   },
   "outputs": [],
   "source": [
    "# Aqui importamos los datos que vamos a clasificar\n",
    "\n",
    "# Scikit-Learn ya incluye algunos datasets de ejemplo como el MNIST\n",
    "mnist = fetch_mldata('MNIST original')\n",
    "\n",
    "# El dataset contiene 70.000 ejemplos de digitos escritos a mano\n",
    "# en blanco y negro. Cada digito esta representada por una imagen de 28x28 pixels.\n",
    "# Además el dataset incluye el \"target\" i.e. el numero asociado con cada imagen.\n",
    "\n",
    "# Otros datasets serían más rápidos de ejecutar, pero la ventaja de este es que,\n",
    "# debido a su complejidad, cuando empecemos a utilizar modelos más complejos (como \n",
    "# redes neuronales), se empezarán a ver las ventajas de estos modelos más complejos\n",
    "\n",
    "# Aqui cargamos nuestros ejemplos en X, el target en y. Nuestro objetivo con\n",
    "# Machine Learning es aprender la función f(X) que genera y.\n",
    "X, y = mnist[\"data\"], mnist[\"target\"]"
   ]
  },
  {
   "cell_type": "markdown",
   "metadata": {
    "slideshow": {
     "slide_type": "slide"
    }
   },
   "source": [
    "## Separación del set de pruebas"
   ]
  },
  {
   "cell_type": "code",
   "execution_count": 5,
   "metadata": {
    "collapsed": true
   },
   "outputs": [],
   "source": [
    "# Nuestro objetivo es que la función aprendida funcione no solamente con\n",
    "# el dataset de prueba, pero que también \"generalize\" bien para ejemplos\n",
    "# que no haya visto antes.\n",
    "\n",
    "# En esta sección separamos el dataset en 2 partes: el training set y test set\n",
    "X_train_o, X_test_o, y_train, y_test = X[:60000], X[60000:], y[:60000], y[60000:]"
   ]
  },
  {
   "cell_type": "markdown",
   "metadata": {
    "slideshow": {
     "slide_type": "slide"
    }
   },
   "source": [
    "# Visualización de los datos"
   ]
  },
  {
   "cell_type": "code",
   "execution_count": 6,
   "metadata": {},
   "outputs": [
    {
     "data": {
      "text/html": [
       "\n",
       "<div class=\"bk-root\">\n",
       "    <div class=\"bk-plotdiv\" id=\"902fd550-7de2-4326-a91c-cffd7185f524\"></div>\n",
       "</div>"
      ]
     },
     "metadata": {},
     "output_type": "display_data"
    },
    {
     "data": {
      "application/javascript": [
       "(function(root) {\n",
       "  function embed_document(root) {\n",
       "    var docs_json = {\"01953edd-8bba-4829-9a41-455a8851631c\":{\"roots\":{\"references\":[{\"attributes\":{\"callback\":null},\"id\":\"2a4888f3-2c28-4fa8-b160-4daa080ce0d8\",\"type\":\"Range1d\"},{\"attributes\":{\"below\":[{\"id\":\"c05378b1-fed9-496e-912b-9a38874673b5\",\"type\":\"LinearAxis\"}],\"left\":[{\"id\":\"2519e9d2-d43f-4f2e-9845-763ee9c90694\",\"type\":\"LinearAxis\"}],\"plot_height\":450,\"plot_width\":450,\"renderers\":[{\"id\":\"c05378b1-fed9-496e-912b-9a38874673b5\",\"type\":\"LinearAxis\"},{\"id\":\"e756908e-def2-4331-8408-6d27fbdfd04f\",\"type\":\"Grid\"},{\"id\":\"2519e9d2-d43f-4f2e-9845-763ee9c90694\",\"type\":\"LinearAxis\"},{\"id\":\"6ded508d-b3a0-4197-bc09-10b16f7ecec7\",\"type\":\"Grid\"},{\"id\":\"21ae22da-a6b6-413c-9320-5cc0d481c759\",\"type\":\"BoxAnnotation\"},{\"id\":\"eb5753e0-cf0a-4023-ac3d-92503d40ef8b\",\"type\":\"GlyphRenderer\"}],\"title\":{\"id\":\"d20b2f11-73da-4631-a1d6-5ef553519ac0\",\"type\":\"Title\"},\"toolbar\":{\"id\":\"a8e655a0-4b89-4a98-9e96-f16e7c5249de\",\"type\":\"Toolbar\"},\"x_range\":{\"id\":\"4b260463-e0ca-4c56-a2e8-bb195cd8f8b1\",\"type\":\"Range1d\"},\"x_scale\":{\"id\":\"791848e8-3026-4d27-8daa-c825fd028f73\",\"type\":\"LinearScale\"},\"y_range\":{\"id\":\"2a4888f3-2c28-4fa8-b160-4daa080ce0d8\",\"type\":\"Range1d\"},\"y_scale\":{\"id\":\"4814dc39-d861-40b1-a26a-34a5ae57dbd3\",\"type\":\"LinearScale\"}},\"id\":\"c2b53a7c-7b89-4db9-b837-d6f4328147b0\",\"subtype\":\"Figure\",\"type\":\"Plot\"},{\"attributes\":{\"formatter\":{\"id\":\"613179b4-4492-4d3b-b577-1a6d7deeff90\",\"type\":\"BasicTickFormatter\"},\"plot\":{\"id\":\"c2b53a7c-7b89-4db9-b837-d6f4328147b0\",\"subtype\":\"Figure\",\"type\":\"Plot\"},\"ticker\":{\"id\":\"d375624f-cbbd-4544-a4a9-823ad2c7b18c\",\"type\":\"BasicTicker\"}},\"id\":\"2519e9d2-d43f-4f2e-9845-763ee9c90694\",\"type\":\"LinearAxis\"},{\"attributes\":{\"formatter\":{\"id\":\"fc35888a-b487-4c1a-a71b-979110de87ca\",\"type\":\"BasicTickFormatter\"},\"plot\":{\"id\":\"c2b53a7c-7b89-4db9-b837-d6f4328147b0\",\"subtype\":\"Figure\",\"type\":\"Plot\"},\"ticker\":{\"id\":\"459acaf3-6bce-47c4-afb5-7fcfdb5b9a54\",\"type\":\"BasicTicker\"}},\"id\":\"c05378b1-fed9-496e-912b-9a38874673b5\",\"type\":\"LinearAxis\"},{\"attributes\":{\"callback\":null},\"id\":\"4b260463-e0ca-4c56-a2e8-bb195cd8f8b1\",\"type\":\"Range1d\"},{\"attributes\":{\"palette\":[\"#000000\",\"#252525\",\"#525252\",\"#737373\",\"#969696\",\"#bdbdbd\",\"#d9d9d9\",\"#f0f0f0\",\"#ffffff\"]},\"id\":\"57090e33-571f-464d-98ef-2796acf88dc4\",\"type\":\"LinearColorMapper\"},{\"attributes\":{\"color_mapper\":{\"id\":\"4ecb5959-f507-4fff-8271-14aec32e23cb\",\"type\":\"LinearColorMapper\"},\"dh\":{\"field\":\"dh\",\"units\":\"data\"},\"dw\":{\"field\":\"dw\",\"units\":\"data\"},\"image\":{\"field\":\"image\"},\"x\":{\"field\":\"x\"},\"y\":{\"field\":\"y\"}},\"id\":\"9a271280-aa3a-478b-9e43-31aa6897696d\",\"type\":\"Image\"},{\"attributes\":{\"color_mapper\":{\"id\":\"57090e33-571f-464d-98ef-2796acf88dc4\",\"type\":\"LinearColorMapper\"},\"dh\":{\"field\":\"dh\",\"units\":\"data\"},\"dw\":{\"field\":\"dw\",\"units\":\"data\"},\"image\":{\"field\":\"image\"},\"x\":{\"field\":\"x\"},\"y\":{\"field\":\"y\"}},\"id\":\"943c86ff-9851-49d2-9122-114c35bc1994\",\"type\":\"Image\"},{\"attributes\":{},\"id\":\"459acaf3-6bce-47c4-afb5-7fcfdb5b9a54\",\"type\":\"BasicTicker\"},{\"attributes\":{\"bottom_units\":\"screen\",\"fill_alpha\":{\"value\":0.5},\"fill_color\":{\"value\":\"lightgrey\"},\"left_units\":\"screen\",\"level\":\"overlay\",\"line_alpha\":{\"value\":1.0},\"line_color\":{\"value\":\"black\"},\"line_dash\":[4,4],\"line_width\":{\"value\":2},\"plot\":null,\"render_mode\":\"css\",\"right_units\":\"screen\",\"top_units\":\"screen\"},\"id\":\"21ae22da-a6b6-413c-9320-5cc0d481c759\",\"type\":\"BoxAnnotation\"},{\"attributes\":{\"active_drag\":\"auto\",\"active_inspect\":\"auto\",\"active_scroll\":\"auto\",\"active_tap\":\"auto\",\"tools\":[{\"id\":\"028900d7-c63f-4703-934e-a01a46a1842f\",\"type\":\"PanTool\"},{\"id\":\"7c43b589-da10-4a2a-838f-3f7ce68d1706\",\"type\":\"WheelZoomTool\"},{\"id\":\"15158b5c-4522-4cec-8322-12f20e97f294\",\"type\":\"BoxZoomTool\"},{\"id\":\"00ba316b-a5c5-4547-b8a0-d185314279db\",\"type\":\"SaveTool\"},{\"id\":\"e8a924a8-9941-456d-844c-85ca9f48f8b7\",\"type\":\"ResetTool\"},{\"id\":\"d09fecb9-2c77-41fe-92d7-003eb9082a84\",\"type\":\"HelpTool\"}]},\"id\":\"a8e655a0-4b89-4a98-9e96-f16e7c5249de\",\"type\":\"Toolbar\"},{\"attributes\":{},\"id\":\"4814dc39-d861-40b1-a26a-34a5ae57dbd3\",\"type\":\"LinearScale\"},{\"attributes\":{},\"id\":\"791848e8-3026-4d27-8daa-c825fd028f73\",\"type\":\"LinearScale\"},{\"attributes\":{\"dimension\":1,\"plot\":{\"id\":\"c2b53a7c-7b89-4db9-b837-d6f4328147b0\",\"subtype\":\"Figure\",\"type\":\"Plot\"},\"ticker\":{\"id\":\"d375624f-cbbd-4544-a4a9-823ad2c7b18c\",\"type\":\"BasicTicker\"}},\"id\":\"6ded508d-b3a0-4197-bc09-10b16f7ecec7\",\"type\":\"Grid\"},{\"attributes\":{},\"id\":\"d375624f-cbbd-4544-a4a9-823ad2c7b18c\",\"type\":\"BasicTicker\"},{\"attributes\":{},\"id\":\"fc35888a-b487-4c1a-a71b-979110de87ca\",\"type\":\"BasicTickFormatter\"},{\"attributes\":{},\"id\":\"028900d7-c63f-4703-934e-a01a46a1842f\",\"type\":\"PanTool\"},{\"attributes\":{\"callback\":null,\"column_names\":[\"image\",\"x\",\"y\",\"dw\",\"dh\"],\"data\":{\"dh\":[1],\"dw\":[1],\"image\":[{\"__ndarray__\":\"AAAAAAAAAAAAAAAAAAAAAAAAAAAAAAAAAAAAAAAAAAAAAAAAAAAAAAAAAAAAAAAAAAAAAAAAAAAAAAAAAAAAAAAAAAAAAAAAAAAAAAAAAAAAAAAAAAAAAAAAAAAAAAAAAAAAAAAAAAAAAAAAAAAAAAAAAAAAAAAAAAAfZrL+kCwAAAAAAAAAAAAAAAAAAAAAAAAAI1ux9/394OHIHwAAAAAAAAAAAAAAAAAAAAAAALD9/c2aSBll/YcAAAAAAAAAAAAAAAAAAAAABs7975APAAAAArSQAAAAAAAAAAAAAAAAAAAAFr391x8AAAAAABbjLAAAAAAAAAAAAAAAAAAAACL9/VMAAAAAAAB5/SwAAAAAAAAAAAAAAAAAAAAg+tIGAAAAAAAF9eAZAAAAAAAAAAAAAAAAAAAAAEW+CQAAAAhPxv79rJEtCgAAAAAAAAAAAAAAAAAAAAAAAE3H/f3//f39/coyAAAAAAAAAAAAAAAAAAAAAH77/f39/v39/f397lcAAAAAAAAAAAAAAAAAADj+/v7+8DEAAApv0f7YCQAAAAAAAAAAAAAAAACE/f39qiwAAAAAABvS/UIAAAAAAAAAAAAAAAAAS/39rQwAAAAAAAAAev2dAAAAAAAAAAAAAAAAAAMKCgQAAAAAAAAAALT9sAAAAAAAAAAAAAAAAAAAAAAAAAAAAAAAADv2/WgAAAAAAAAAAAAAAAAAAEZZIwAAAAAAAACv/dsOAAAAAAAAAAAAAAAAADH3/WoMAgAIDEbC+f2hAAAAAAAAAAAAAAAAAAAi6P39/aeb4P39/f37fQAAAAAAAAAAAAAAAAAAD9X9/f39/v39/f3ieQAAAAAAAAAAAAAAAAAAAAAaIWSP7/79/ZN3FQAAAAAAAAAAAAAAAAAAAAAAAAAAAAAAAAAAAAAAAAAAAAAAAAAAAAAAAAAAAAAAAAAAAAAAAAAAAAAAAAAAAAAAAAAAAAAAAAAAAAAAAAAAAAAAAAAAAAAAAAAAAAAAAAAAAAAAAAAAAAAAAAAAAAAAAAAAAAAAAA==\",\"dtype\":\"uint8\",\"shape\":[28,28]}],\"x\":[0],\"y\":[0]}},\"id\":\"6b67f406-b307-4758-a750-251a26f2a272\",\"type\":\"ColumnDataSource\"},{\"attributes\":{},\"id\":\"e8a924a8-9941-456d-844c-85ca9f48f8b7\",\"type\":\"ResetTool\"},{\"attributes\":{},\"id\":\"00ba316b-a5c5-4547-b8a0-d185314279db\",\"type\":\"SaveTool\"},{\"attributes\":{},\"id\":\"d09fecb9-2c77-41fe-92d7-003eb9082a84\",\"type\":\"HelpTool\"},{\"attributes\":{\"overlay\":{\"id\":\"21ae22da-a6b6-413c-9320-5cc0d481c759\",\"type\":\"BoxAnnotation\"}},\"id\":\"15158b5c-4522-4cec-8322-12f20e97f294\",\"type\":\"BoxZoomTool\"},{\"attributes\":{},\"id\":\"613179b4-4492-4d3b-b577-1a6d7deeff90\",\"type\":\"BasicTickFormatter\"},{\"attributes\":{\"palette\":[\"#000000\",\"#252525\",\"#525252\",\"#737373\",\"#969696\",\"#bdbdbd\",\"#d9d9d9\",\"#f0f0f0\",\"#ffffff\"]},\"id\":\"4ecb5959-f507-4fff-8271-14aec32e23cb\",\"type\":\"LinearColorMapper\"},{\"attributes\":{\"data_source\":{\"id\":\"6b67f406-b307-4758-a750-251a26f2a272\",\"type\":\"ColumnDataSource\"},\"glyph\":{\"id\":\"9a271280-aa3a-478b-9e43-31aa6897696d\",\"type\":\"Image\"},\"hover_glyph\":null,\"muted_glyph\":null,\"nonselection_glyph\":{\"id\":\"943c86ff-9851-49d2-9122-114c35bc1994\",\"type\":\"Image\"},\"selection_glyph\":null,\"view\":{\"id\":\"49c12ddf-75bd-4131-89dd-9002f6482f84\",\"type\":\"CDSView\"}},\"id\":\"eb5753e0-cf0a-4023-ac3d-92503d40ef8b\",\"type\":\"GlyphRenderer\"},{\"attributes\":{},\"id\":\"7c43b589-da10-4a2a-838f-3f7ce68d1706\",\"type\":\"WheelZoomTool\"},{\"attributes\":{\"source\":{\"id\":\"6b67f406-b307-4758-a750-251a26f2a272\",\"type\":\"ColumnDataSource\"}},\"id\":\"49c12ddf-75bd-4131-89dd-9002f6482f84\",\"type\":\"CDSView\"},{\"attributes\":{\"plot\":{\"id\":\"c2b53a7c-7b89-4db9-b837-d6f4328147b0\",\"subtype\":\"Figure\",\"type\":\"Plot\"},\"ticker\":{\"id\":\"459acaf3-6bce-47c4-afb5-7fcfdb5b9a54\",\"type\":\"BasicTicker\"}},\"id\":\"e756908e-def2-4331-8408-6d27fbdfd04f\",\"type\":\"Grid\"},{\"attributes\":{\"plot\":null,\"text\":\"\"},\"id\":\"d20b2f11-73da-4631-a1d6-5ef553519ac0\",\"type\":\"Title\"}],\"root_ids\":[\"c2b53a7c-7b89-4db9-b837-d6f4328147b0\"]},\"title\":\"Bokeh Application\",\"version\":\"0.12.10\"}};\n",
       "    var render_items = [{\"docid\":\"01953edd-8bba-4829-9a41-455a8851631c\",\"elementid\":\"902fd550-7de2-4326-a91c-cffd7185f524\",\"modelid\":\"c2b53a7c-7b89-4db9-b837-d6f4328147b0\"}];\n",
       "\n",
       "    root.Bokeh.embed.embed_items(docs_json, render_items);\n",
       "  }\n",
       "\n",
       "  if (root.Bokeh !== undefined) {\n",
       "    embed_document(root);\n",
       "  } else {\n",
       "    var attempts = 0;\n",
       "    var timer = setInterval(function(root) {\n",
       "      if (root.Bokeh !== undefined) {\n",
       "        embed_document(root);\n",
       "        clearInterval(timer);\n",
       "      }\n",
       "      attempts++;\n",
       "      if (attempts > 100) {\n",
       "        console.log(\"Bokeh: ERROR: Unable to embed document because BokehJS library is missing\")\n",
       "        clearInterval(timer);\n",
       "      }\n",
       "    }, 10, root)\n",
       "  }\n",
       "})(window);"
      ],
      "application/vnd.bokehjs_exec.v0+json": ""
     },
     "metadata": {
      "application/vnd.bokehjs_exec.v0+json": {
       "id": "c2b53a7c-7b89-4db9-b837-d6f4328147b0"
      }
     },
     "output_type": "display_data"
    }
   ],
   "source": [
    "img = np.reshape(X[23455], [28, 28])\n",
    "p = figure(height=450, width=450, x_range=(0, 1), y_range=(0,1))\n",
    "p.image(image=[img], x=[0], y=[0], dw=[1], dh=[1])\n",
    "show(p)\n"
   ]
  },
  {
   "cell_type": "markdown",
   "metadata": {
    "slideshow": {
     "slide_type": "slide"
    }
   },
   "source": [
    "# Normalización de los datos (aka Feature Engineering)"
   ]
  },
  {
   "cell_type": "code",
   "execution_count": 7,
   "metadata": {},
   "outputs": [
    {
     "name": "stderr",
     "output_type": "stream",
     "text": [
      "C:\\ProgramData\\Anaconda3\\envs\\tensorflow\\lib\\site-packages\\sklearn\\utils\\validation.py:475: DataConversionWarning: Data with input dtype uint8 was converted to float64 by StandardScaler.\n",
      "  warnings.warn(msg, DataConversionWarning)\n"
     ]
    }
   ],
   "source": [
    "# Antes de enviar los datos al modelo, hacemos una adaptación de los datos para normalizarlos\n",
    "# Por normalización en este contexto la idea es remover la media de cada \"feature\"\n",
    "# (i.e. centrar en zero) y dividir por la \"variance\", es decir hacer que los datos estén entre\n",
    "# 0 y 1.\n",
    "scaler = StandardScaler()\n",
    "X_train = scaler.fit_transform(X_train_o)\n",
    "X_test = scaler.transform(X_test_o)\n"
   ]
  },
  {
   "cell_type": "markdown",
   "metadata": {
    "slideshow": {
     "slide_type": "slide"
    }
   },
   "source": [
    "# Regresión Logistica"
   ]
  },
  {
   "cell_type": "code",
   "execution_count": 8,
   "metadata": {},
   "outputs": [
    {
     "name": "stdout",
     "output_type": "stream",
     "text": [
      "Wall time: 9.77 s\n",
      "Wall time: 125 ms\n",
      "Rendimiento en el dataset de training: 0.8893\n",
      "Wall time: 15.6 ms\n",
      "Rendimiento en el dataset de pruebas: 0.8918\n"
     ]
    }
   ],
   "source": [
    "# El problema que vamos a classificar tiene 768 dimensiones de entrada (28x28)\n",
    "# La regresión logistica intentará definir una \"línea\" en este espacio multidimensional\n",
    "# que mejor represente el dato\n",
    "\n",
    "# Creamos el modelo que queremos usar\n",
    "# Para la regresión logistica, hemos indicado que el modelo es para una\n",
    "# clasificacion de multiplas clases\n",
    "lr_clf = LogisticRegression(multi_class='multinomial', solver='saga', tol=0.1)\n",
    "\n",
    "# Hacemos fit del modelo al dato de training\n",
    "%time lr_clf.fit(X_train, y_train)\n",
    "\n",
    "# Los modelos de Scikit-Learn ya vienen con funciones para evaluar el rendimiento del modelo\n",
    "# Con este modelo sencillo hemos podido alcanzar una \"exactitud\" de mis previsiones de casi 90%\n",
    "# Usamos \"exactitud\" para diferenciar de precisión que significa otra cosa en nuestras medidas\n",
    "# rendimiento.\n",
    "%time train_score = lr_clf.score(X_train, y_train)\n",
    "print(\"Rendimiento en el dataset de training: %.4f\" % train_score)\n",
    "%time score = lr_clf.score(X_test, y_test)\n",
    "print(\"Rendimiento en el dataset de pruebas: %.4f\" % score)\n"
   ]
  },
  {
   "cell_type": "markdown",
   "metadata": {
    "slideshow": {
     "slide_type": "slide"
    }
   },
   "source": [
    "# Evaluación del Modelo\n",
    "\n",
    "- Exactitud - Accuracy\n",
    "- Precisión - Precision\n",
    "- \"Retirada\" - Recall\n"
   ]
  },
  {
   "cell_type": "code",
   "execution_count": 9,
   "metadata": {},
   "outputs": [
    {
     "name": "stdout",
     "output_type": "stream",
     "text": [
      "Wall time: 118 ms\n",
      "Rendimiento en el dataset de training: 0.8893\n",
      "Wall time: 15.6 ms\n",
      "Rendimiento en el dataset de pruebas: 0.8918\n"
     ]
    }
   ],
   "source": [
    "# Los modelos de Scikit-Learn ya vienen con funciones para evaluar el rendimiento del modelo\n",
    "# Con este modelo sencillo hemos podido alcanzar una \"exactitud\" de mis previsiones de casi 90%\n",
    "# Usamos \"exactitud\" para diferenciar de precisión que significa otra cosa en nuestras medidas\n",
    "# rendimiento.\n",
    "%time train_score = lr_clf.score(X_train, y_train)\n",
    "print(\"Rendimiento en el dataset de training: %.4f\" % train_score)\n",
    "%time score = lr_clf.score(X_test, y_test)\n",
    "print(\"Rendimiento en el dataset de pruebas: %.4f\" % score)\n"
   ]
  }
 ],
 "metadata": {
  "celltoolbar": "Slideshow",
  "kernelspec": {
   "display_name": "Python 3",
   "language": "python",
   "name": "python3"
  },
  "language_info": {
   "codemirror_mode": {
    "name": "ipython",
    "version": 3
   },
   "file_extension": ".py",
   "mimetype": "text/x-python",
   "name": "python",
   "nbconvert_exporter": "python",
   "pygments_lexer": "ipython3",
   "version": "3.6.3"
  }
 },
 "nbformat": 4,
 "nbformat_minor": 2
}
