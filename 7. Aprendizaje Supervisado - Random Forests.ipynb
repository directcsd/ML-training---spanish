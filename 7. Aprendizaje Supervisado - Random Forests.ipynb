{
 "cells": [
  {
   "cell_type": "code",
   "execution_count": 24,
   "metadata": {
    "slideshow": {
     "slide_type": "skip"
    }
   },
   "outputs": [
    {
     "name": "stderr",
     "output_type": "stream",
     "text": [
      "C:\\ProgramData\\Anaconda3\\envs\\tensorflow\\lib\\site-packages\\sklearn\\cross_validation.py:41: DeprecationWarning: This module was deprecated in version 0.18 in favor of the model_selection module into which all the refactored classes and functions are moved. Also note that the interface of the new CV iterators are different from that of this module. This module will be removed in 0.20.\n",
      "  \"This module will be removed in 0.20.\", DeprecationWarning)\n"
     ]
    }
   ],
   "source": [
    "# Importamos nuestra librerías básicas\n",
    "import numpy as np\n",
    "import os\n",
    "import itertools\n",
    "\n",
    "from sklearn.datasets import fetch_mldata\n",
    "from sklearn.preprocessing import StandardScaler\n",
    "from sklearn.metrics import confusion_matrix, accuracy_score\n",
    "from sklearn.model_selection import train_test_split\n",
    "from sklearn.model_selection import cross_val_score\n",
    "from sklearn.ensemble import RandomForestClassifier, BaggingClassifier, GradientBoostingClassifier\n",
    "from sklearn.linear_model import LogisticRegression\n",
    "from vecstack import stacking\n",
    "\n",
    "import matplotlib.pyplot as plt\n",
    "from mpl_toolkits import mplot3d\n",
    "import seaborn as sns\n",
    "\n",
    "# Este paso es para que los resultados en vuestros notebooks sean iguales a lo de este\n",
    "np.random.seed(42)"
   ]
  },
  {
   "cell_type": "markdown",
   "metadata": {
    "slideshow": {
     "slide_type": "slide"
    }
   },
   "source": [
    "# Aprendizaje supervisado - *Random Forests*\n",
    "En la parte anterior hemos comentado el algoritmo de *Decision Trees*. Este algoritmo se molda muy bien al dato y por esta razón sole tener el problema del *overfitting*. En esta parte hablaremos del algoritmo *Random Forest* que utiliza la técnica de *ensemble* para regularizar el modelo de *Decision Trees* y generalizar mejor. Luego comentaremos *ensembles* en general, incluso con otros modelos subyacientes.\n",
    "\n",
    "En este caso ya trabajamos directamente con el dataset MNIST"
   ]
  },
  {
   "cell_type": "code",
   "execution_count": 2,
   "metadata": {
    "collapsed": true,
    "slideshow": {
     "slide_type": "slide"
    }
   },
   "outputs": [],
   "source": [
    "# Aqui importamos los datos que vamos a clasificar\n",
    "\n",
    "# Scikit-Learn ya incluye algunos datasets de ejemplo como el MNIST\n",
    "mnist = fetch_mldata('MNIST original')\n",
    "\n",
    "# Aqui cargamos nuestros ejemplos en X, el target en y. Nuestro objetivo con\n",
    "# Machine Learning es aprender la función f(X) que genera y.\n",
    "X, y = mnist[\"data\"], mnist[\"target\"]"
   ]
  },
  {
   "cell_type": "code",
   "execution_count": 3,
   "metadata": {
    "collapsed": true
   },
   "outputs": [],
   "source": [
    "# Nuestro objetivo es que la función aprendida funcione no solamente con\n",
    "# el dataset de prueba, pero que también \"generalize\" bien para ejemplos\n",
    "# que no haya visto antes.\n",
    "\n",
    "# En esta sección separamos el dataset en 2 partes: el training set y test set\n",
    "X_train_o, X_test_o, y_train, y_test = train_test_split(X, y, test_size=0.15, random_state=42)"
   ]
  },
  {
   "cell_type": "markdown",
   "metadata": {
    "slideshow": {
     "slide_type": "slide"
    }
   },
   "source": [
    "## Clasificador *Random Forests*"
   ]
  },
  {
   "cell_type": "code",
   "execution_count": 4,
   "metadata": {},
   "outputs": [
    {
     "name": "stdout",
     "output_type": "stream",
     "text": [
      "Wall time: 3.98 s\n"
     ]
    },
    {
     "data": {
      "text/plain": [
       "RandomForestClassifier(bootstrap=True, class_weight=None, criterion='gini',\n",
       "            max_depth=None, max_features='auto', max_leaf_nodes=None,\n",
       "            min_impurity_decrease=0.0, min_impurity_split=None,\n",
       "            min_samples_leaf=1, min_samples_split=2,\n",
       "            min_weight_fraction_leaf=0.0, n_estimators=10, n_jobs=1,\n",
       "            oob_score=False, random_state=42, verbose=0, warm_start=False)"
      ]
     },
     "execution_count": 4,
     "metadata": {},
     "output_type": "execute_result"
    }
   ],
   "source": [
    "# Creamos el modelo\n",
    "forest_clf = RandomForestClassifier(random_state=42)\n",
    "\n",
    "# Hacemos fit del modelo al dato\n",
    "%time forest_clf.fit(X_train_o, y_train)"
   ]
  },
  {
   "cell_type": "code",
   "execution_count": 5,
   "metadata": {
    "slideshow": {
     "slide_type": "slide"
    }
   },
   "outputs": [
    {
     "name": "stdout",
     "output_type": "stream",
     "text": [
      "Wall time: 347 ms\n",
      "Rendimiento en el dataset de training: 0.9991\n",
      "Wall time: 15.2 s\n",
      "Rendimiento en la cross-validación: 0.9429\n",
      "Wall time: 67.1 ms\n",
      "Rendimiento en el dataset de pruebas: 0.9502\n"
     ]
    }
   ],
   "source": [
    "# Medimos el rendimiento\n",
    "%time train_score = forest_clf.score(X_train_o, y_train)\n",
    "print(\"Rendimiento en el dataset de training: %.4f\" % train_score)\n",
    "%time cv_score = cross_val_score(forest_clf, X_train_o, y_train, cv=5)\n",
    "print(\"Rendimiento en la cross-validación: %.4f\" % np.mean(cv_score))\n",
    "%time score = forest_clf.score(X_test_o, y_test)\n",
    "print(\"Rendimiento en el dataset de pruebas: %.4f\" % score)"
   ]
  },
  {
   "cell_type": "code",
   "execution_count": 6,
   "metadata": {
    "collapsed": true,
    "slideshow": {
     "slide_type": "skip"
    }
   },
   "outputs": [],
   "source": [
    "# Esta función esta adaptada de la documentación del Scikit-Learn para presentar\n",
    "# la matrix de \"confusión\" de forma más visual\n",
    "def plot_confusion_matrix(cm, classes,\n",
    "                          normalize=False,\n",
    "                          title='Confusion matrix',\n",
    "                          cmap=plt.cm.Blues):\n",
    "    \"\"\"\n",
    "    This function prints and plots the confusion matrix.\n",
    "    Normalization can be applied by setting `normalize=True`.\n",
    "    \"\"\"\n",
    "    if normalize:\n",
    "        cm = cm.astype('float') / cm.sum(axis=1)[:, np.newaxis]\n",
    "        #print(\"Normalized confusion matrix\")\n",
    "    #else:\n",
    "        #print('Confusion matrix, without normalization')\n",
    "        \n",
    "\n",
    "    #print(cm)\n",
    "    \n",
    "    plt.imshow(cm, interpolation='nearest', cmap=cmap)\n",
    "    plt.title(title)\n",
    "    plt.colorbar()\n",
    "    tick_marks = np.arange(len(classes))\n",
    "    plt.xticks(tick_marks, classes, rotation=45)\n",
    "    plt.yticks(tick_marks, classes)\n",
    "\n",
    "    fmt = '.2f' if normalize else 'd'\n",
    "    thresh = cm.max() / 2.\n",
    "    for i, j in itertools.product(range(cm.shape[0]), range(cm.shape[1])):\n",
    "        plt.text(j, i, format(cm[i, j], fmt),\n",
    "                 horizontalalignment=\"center\",\n",
    "                 color=\"white\" if cm[i, j] > thresh else \"black\")\n",
    "\n",
    "    plt.tight_layout()\n",
    "    plt.ylabel(\"Valor real\")\n",
    "    plt.xlabel(\"Predicción\")\n",
    "    plt.show()"
   ]
  },
  {
   "cell_type": "code",
   "execution_count": 7,
   "metadata": {
    "slideshow": {
     "slide_type": "slide"
    }
   },
   "outputs": [
    {
     "data": {
      "image/png": "[encoded data removed]",
      "text/plain": [
       "<matplotlib.figure.Figure at 0x1cc2d430b00>"
      ]
     },
     "metadata": {},
     "output_type": "display_data"
    }
   ],
   "source": [
    "# La confusion matrix nos presenta una información sumaria de la precisión y del recall\n",
    "cm=confusion_matrix(y_test, forest_clf.predict(X_test_o))\n",
    "plt.figure(figsize=(8,8))\n",
    "plot_confusion_matrix(cm, classes=[\"zero\",\"uno\",\"dos\",\"tres\",\"cuatro\",\"cinco\",\"seis\",\"siete\",\"ocho\",\"nueve\"], normalize=True);"
   ]
  },
  {
   "cell_type": "markdown",
   "metadata": {
    "slideshow": {
     "slide_type": "slide"
    }
   },
   "source": [
    "# *Ensembles*\n",
    "\n",
    "- Bagging - Ej: Random Forests\n",
    "- Boosting - Ej: Gradient Tree Boosting, XGBoosting (librería externa)\n",
    "- Stacking - no incluido en el sklearn, utilizaremos vecstack como ejemplo\n",
    "- Voting - Ej: Voting classifier (por mayoría o mayoría ponderada)"
   ]
  },
  {
   "cell_type": "code",
   "execution_count": 10,
   "metadata": {
    "slideshow": {
     "slide_type": "slide"
    }
   },
   "outputs": [
    {
     "name": "stdout",
     "output_type": "stream",
     "text": [
      "Wall time: 55 s\n"
     ]
    },
    {
     "data": {
      "text/plain": [
       "BaggingClassifier(base_estimator=LogisticRegression(C=1.0, class_weight=None, dual=False, fit_intercept=True,\n",
       "          intercept_scaling=1, max_iter=100, multi_class='multinomial',\n",
       "          n_jobs=1, penalty='l2', random_state=None, solver='saga',\n",
       "          tol=0.1, verbose=0, warm_start=False),\n",
       "         bootstrap=True, bootstrap_features=False, max_features=0.5,\n",
       "         max_samples=0.5, n_estimators=10, n_jobs=1, oob_score=False,\n",
       "         random_state=None, verbose=0, warm_start=False)"
      ]
     },
     "execution_count": 10,
     "metadata": {},
     "output_type": "execute_result"
    }
   ],
   "source": [
    "# Aquí hacemos Bagging, pero con otro estimador de base (no Decision Tree)\n",
    "# Inicializamos el base estimator\n",
    "lr_clf = LogisticRegression(multi_class='multinomial', solver='saga', tol=0.1)\n",
    "# Luego el ensemble\n",
    "bag_clf = BaggingClassifier(lr_clf, max_samples=0.5, max_features=0.5)\n",
    "# Entrenamos\n",
    "%time bag_clf.fit(X_train_o, y_train)"
   ]
  },
  {
   "cell_type": "code",
   "execution_count": 11,
   "metadata": {
    "slideshow": {
     "slide_type": "slide"
    }
   },
   "outputs": [
    {
     "name": "stdout",
     "output_type": "stream",
     "text": [
      "Wall time: 3.24 s\n",
      "Rendimiento en el dataset de training: 0.9221\n",
      "Wall time: 3min 57s\n",
      "Rendimiento en la cross-validación: 0.9171\n",
      "Wall time: 434 ms\n",
      "Rendimiento en el dataset de pruebas: 0.9190\n"
     ]
    }
   ],
   "source": [
    "# Medimos el rendimiento\n",
    "%time train_score = bag_clf.score(X_train_o, y_train)\n",
    "print(\"Rendimiento en el dataset de training: %.4f\" % train_score)\n",
    "%time cv_score = cross_val_score(bag_clf, X_train_o, y_train, cv=5)\n",
    "print(\"Rendimiento en la cross-validación: %.4f\" % np.mean(cv_score))\n",
    "%time score = bag_clf.score(X_test_o, y_test)\n",
    "print(\"Rendimiento en el dataset de pruebas: %.4f\" % score)"
   ]
  },
  {
   "cell_type": "code",
   "execution_count": 18,
   "metadata": {
    "slideshow": {
     "slide_type": "slide"
    }
   },
   "outputs": [
    {
     "name": "stdout",
     "output_type": "stream",
     "text": [
      "Wall time: 4min 9s\n"
     ]
    },
    {
     "data": {
      "text/plain": [
       "GradientBoostingClassifier(criterion='friedman_mse', init=None,\n",
       "              learning_rate=0.1, loss='deviance', max_depth=3,\n",
       "              max_features=None, max_leaf_nodes=None,\n",
       "              min_impurity_decrease=0.0, min_impurity_split=None,\n",
       "              min_samples_leaf=1, min_samples_split=2,\n",
       "              min_weight_fraction_leaf=0.0, n_estimators=10,\n",
       "              presort='auto', random_state=42, subsample=1.0, verbose=0,\n",
       "              warm_start=False)"
      ]
     },
     "execution_count": 18,
     "metadata": {},
     "output_type": "execute_result"
    }
   ],
   "source": [
    "# Otra opción es hacer Gradient Boosting, que en el sklearn utiliza Decision Trees como base\n",
    "# Inicializamos el base estimator\n",
    "gb_clf = GradientBoostingClassifier(n_estimators=10, random_state=42)\n",
    "# Entrenamos\n",
    "%time gb_clf.fit(X_train_o, y_train)"
   ]
  },
  {
   "cell_type": "code",
   "execution_count": 19,
   "metadata": {
    "slideshow": {
     "slide_type": "slide"
    }
   },
   "outputs": [
    {
     "name": "stdout",
     "output_type": "stream",
     "text": [
      "Wall time: 509 ms\n",
      "Rendimiento en el dataset de training: 0.8454\n",
      "Wall time: 22min 15s\n",
      "Rendimiento en la cross-validación: 0.8379\n",
      "Wall time: 113 ms\n",
      "Rendimiento en el dataset de pruebas: 0.8482\n"
     ]
    }
   ],
   "source": [
    "# Medimos el rendimiento\n",
    "%time train_score = gb_clf.score(X_train_o, y_train)\n",
    "print(\"Rendimiento en el dataset de training: %.4f\" % train_score)\n",
    "%time cv_score = cross_val_score(gb_clf, X_train_o, y_train, cv=5)\n",
    "print(\"Rendimiento en la cross-validación: %.4f\" % np.mean(cv_score))\n",
    "%time score = gb_clf.score(X_test_o, y_test)\n",
    "print(\"Rendimiento en el dataset de pruebas: %.4f\" % score)"
   ]
  },
  {
   "cell_type": "code",
   "execution_count": 29,
   "metadata": {
    "slideshow": {
     "slide_type": "slide"
    }
   },
   "outputs": [
    {
     "name": "stdout",
     "output_type": "stream",
     "text": [
      "Wall time: 1min 9s\n"
     ]
    }
   ],
   "source": [
    "# En la opción de stacking utilizamos una libería externa al sklearn\n",
    "# Inicialmente definimos los base estimators\n",
    "models = [RandomForestClassifier(random_state = 42),\n",
    "          LogisticRegression(multi_class='multinomial', solver='saga', tol=0.1)]\n",
    "# Entrenamos la primera capa del stacking\n",
    "% time S_train, S_test = stacking(models, X_train_o, y_train, X_test_o, regression = False, n_folds = 4, random_state = 42, verbose = 0)\n",
    "# Luego creamos el estimador de la segunda capa\n",
    "model = RandomForestClassifier(random_state=42)\n",
    "# Y finalmente entrenamos la segunda capa\n",
    "model = model.fit(S_train, y_train)\n",
    "# Creamos predicciones\n",
    "y_pred = model.predict(S_test)"
   ]
  },
  {
   "cell_type": "code",
   "execution_count": 30,
   "metadata": {
    "slideshow": {
     "slide_type": "slide"
    }
   },
   "outputs": [
    {
     "name": "stdout",
     "output_type": "stream",
     "text": [
      "Rendimiento en el dataset de pruebas: 0.9553\n"
     ]
    }
   ],
   "source": [
    "# Medimos el rendimiento\n",
    "print(\"Rendimiento en el dataset de pruebas: %.4f\" % accuracy_score(y_test, y_pred))"
   ]
  }
 ],
 "metadata": {
  "celltoolbar": "Slideshow",
  "kernelspec": {
   "display_name": "Python 3",
   "language": "python",
   "name": "python3"
  },
  "language_info": {
   "codemirror_mode": {
    "name": "ipython",
    "version": 3
   },
   "file_extension": ".py",
   "mimetype": "text/x-python",
   "name": "python",
   "nbconvert_exporter": "python",
   "pygments_lexer": "ipython3",
   "version": "3.6.3"
  }
 },
 "nbformat": 4,
 "nbformat_minor": 2
}
