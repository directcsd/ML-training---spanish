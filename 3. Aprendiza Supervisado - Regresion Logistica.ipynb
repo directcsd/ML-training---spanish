{
 "cells": [
  {
   "cell_type": "code",
   "execution_count": 1,
   "metadata": {
    "slideshow": {
     "slide_type": "skip"
    }
   },
   "outputs": [
    {
     "data": {
      "text/html": [
       "\n",
       "    <div class=\"bk-root\">\n",
       "        <a href=\"https://bokeh.pydata.org\" target=\"_blank\" class=\"bk-logo bk-logo-small bk-logo-notebook\"></a>\n",
       "        <span id=\"0dd3c065-5834-4b43-a7b4-9e7dfafe3200\">Loading BokehJS ...</span>\n",
       "    </div>"
      ]
     },
     "metadata": {},
     "output_type": "display_data"
    },
    {
     "data": {
      "application/javascript": [
       "\n",
       "(function(root) {\n",
       "  function now() {\n",
       "    return new Date();\n",
       "  }\n",
       "\n",
       "  var force = true;\n",
       "\n",
       "  if (typeof (root._bokeh_onload_callbacks) === \"undefined\" || force === true) {\n",
       "    root._bokeh_onload_callbacks = [];\n",
       "    root._bokeh_is_loading = undefined;\n",
       "  }\n",
       "\n",
       "  var JS_MIME_TYPE = 'application/javascript';\n",
       "  var HTML_MIME_TYPE = 'text/html';\n",
       "  var EXEC_MIME_TYPE = 'application/vnd.bokehjs_exec.v0+json';\n",
       "  var CLASS_NAME = 'output_bokeh rendered_html';\n",
       "\n",
       "  /**\n",
       "   * Render data to the DOM node\n",
       "   */\n",
       "  function render(props, node) {\n",
       "    var script = document.createElement(\"script\");\n",
       "    node.appendChild(script);\n",
       "  }\n",
       "\n",
       "  /**\n",
       "   * Handle when an output is cleared or removed\n",
       "   */\n",
       "  function handleClearOutput(event, handle) {\n",
       "    var cell = handle.cell;\n",
       "\n",
       "    var id = cell.output_area._bokeh_element_id;\n",
       "    var server_id = cell.output_area._bokeh_server_id;\n",
       "    // Clean up Bokeh references\n",
       "    if (id !== undefined) {\n",
       "      Bokeh.index[id].model.document.clear();\n",
       "      delete Bokeh.index[id];\n",
       "    }\n",
       "\n",
       "    if (server_id !== undefined) {\n",
       "      // Clean up Bokeh references\n",
       "      var cmd = \"from bokeh.io.state import curstate; print(curstate().uuid_to_server['\" + server_id + \"'].get_sessions()[0].document.roots[0]._id)\";\n",
       "      cell.notebook.kernel.execute(cmd, {\n",
       "        iopub: {\n",
       "          output: function(msg) {\n",
       "            var element_id = msg.content.text.trim();\n",
       "            Bokeh.index[element_id].model.document.clear();\n",
       "            delete Bokeh.index[element_id];\n",
       "          }\n",
       "        }\n",
       "      });\n",
       "      // Destroy server and session\n",
       "      var cmd = \"import bokeh.io.notebook as ion; ion.destroy_server('\" + server_id + \"')\";\n",
       "      cell.notebook.kernel.execute(cmd);\n",
       "    }\n",
       "  }\n",
       "\n",
       "  /**\n",
       "   * Handle when a new output is added\n",
       "   */\n",
       "  function handleAddOutput(event, handle) {\n",
       "    var output_area = handle.output_area;\n",
       "    var output = handle.output;\n",
       "\n",
       "    // limit handleAddOutput to display_data with EXEC_MIME_TYPE content only\n",
       "    if ((output.output_type != \"display_data\") || (!output.data.hasOwnProperty(EXEC_MIME_TYPE))) {\n",
       "      return\n",
       "    }\n",
       "\n",
       "    var toinsert = output_area.element.find(`.${CLASS_NAME.split(' ')[0]}`);\n",
       "\n",
       "    if (output.metadata[EXEC_MIME_TYPE][\"id\"] !== undefined) {\n",
       "      toinsert[0].firstChild.textContent = output.data[JS_MIME_TYPE];\n",
       "      // store reference to embed id on output_area\n",
       "      output_area._bokeh_element_id = output.metadata[EXEC_MIME_TYPE][\"id\"];\n",
       "    }\n",
       "    if (output.metadata[EXEC_MIME_TYPE][\"server_id\"] !== undefined) {\n",
       "      var bk_div = document.createElement(\"div\");\n",
       "      bk_div.innerHTML = output.data[HTML_MIME_TYPE];\n",
       "      var script_attrs = bk_div.children[0].attributes;\n",
       "      for (var i = 0; i < script_attrs.length; i++) {\n",
       "        toinsert[0].firstChild.setAttribute(script_attrs[i].name, script_attrs[i].value);\n",
       "      }\n",
       "      // store reference to server id on output_area\n",
       "      output_area._bokeh_server_id = output.metadata[EXEC_MIME_TYPE][\"server_id\"];\n",
       "    }\n",
       "  }\n",
       "\n",
       "  function register_renderer(events, OutputArea) {\n",
       "\n",
       "    function append_mime(data, metadata, element) {\n",
       "      // create a DOM node to render to\n",
       "      var toinsert = this.create_output_subarea(\n",
       "        metadata,\n",
       "        CLASS_NAME,\n",
       "        EXEC_MIME_TYPE\n",
       "      );\n",
       "      this.keyboard_manager.register_events(toinsert);\n",
       "      // Render to node\n",
       "      var props = {data: data, metadata: metadata[EXEC_MIME_TYPE]};\n",
       "      render(props, toinsert[0]);\n",
       "      element.append(toinsert);\n",
       "      return toinsert\n",
       "    }\n",
       "\n",
       "    /* Handle when an output is cleared or removed */\n",
       "    events.on('clear_output.CodeCell', handleClearOutput);\n",
       "    events.on('delete.Cell', handleClearOutput);\n",
       "\n",
       "    /* Handle when a new output is added */\n",
       "    events.on('output_added.OutputArea', handleAddOutput);\n",
       "\n",
       "    /**\n",
       "     * Register the mime type and append_mime function with output_area\n",
       "     */\n",
       "    OutputArea.prototype.register_mime_type(EXEC_MIME_TYPE, append_mime, {\n",
       "      /* Is output safe? */\n",
       "      safe: true,\n",
       "      /* Index of renderer in `output_area.display_order` */\n",
       "      index: 0\n",
       "    });\n",
       "  }\n",
       "\n",
       "  // register the mime type if in Jupyter Notebook environment and previously unregistered\n",
       "  if (root.Jupyter !== undefined) {\n",
       "    var events = require('base/js/events');\n",
       "    var OutputArea = require('notebook/js/outputarea').OutputArea;\n",
       "\n",
       "    if (OutputArea.prototype.mime_types().indexOf(EXEC_MIME_TYPE) == -1) {\n",
       "      register_renderer(events, OutputArea);\n",
       "    }\n",
       "  }\n",
       "\n",
       "  \n",
       "  if (typeof (root._bokeh_timeout) === \"undefined\" || force === true) {\n",
       "    root._bokeh_timeout = Date.now() + 5000;\n",
       "    root._bokeh_failed_load = false;\n",
       "  }\n",
       "\n",
       "  var NB_LOAD_WARNING = {'data': {'text/html':\n",
       "     \"<div style='background-color: #fdd'>\\n\"+\n",
       "     \"<p>\\n\"+\n",
       "     \"BokehJS does not appear to have successfully loaded. If loading BokehJS from CDN, this \\n\"+\n",
       "     \"may be due to a slow or bad network connection. Possible fixes:\\n\"+\n",
       "     \"</p>\\n\"+\n",
       "     \"<ul>\\n\"+\n",
       "     \"<li>re-rerun `output_notebook()` to attempt to load from CDN again, or</li>\\n\"+\n",
       "     \"<li>use INLINE resources instead, as so:</li>\\n\"+\n",
       "     \"</ul>\\n\"+\n",
       "     \"<code>\\n\"+\n",
       "     \"from bokeh.resources import INLINE\\n\"+\n",
       "     \"output_notebook(resources=INLINE)\\n\"+\n",
       "     \"</code>\\n\"+\n",
       "     \"</div>\"}};\n",
       "\n",
       "  function display_loaded() {\n",
       "    var el = document.getElementById(\"0dd3c065-5834-4b43-a7b4-9e7dfafe3200\");\n",
       "    if (el != null) {\n",
       "      el.textContent = \"BokehJS is loading...\";\n",
       "    }\n",
       "    if (root.Bokeh !== undefined) {\n",
       "      if (el != null) {\n",
       "        el.textContent = \"BokehJS \" + root.Bokeh.version + \" successfully loaded.\";\n",
       "      }\n",
       "    } else if (Date.now() < root._bokeh_timeout) {\n",
       "      setTimeout(display_loaded, 100)\n",
       "    }\n",
       "  }\n",
       "\n",
       "\n",
       "  function run_callbacks() {\n",
       "    try {\n",
       "      root._bokeh_onload_callbacks.forEach(function(callback) { callback() });\n",
       "    }\n",
       "    finally {\n",
       "      delete root._bokeh_onload_callbacks\n",
       "    }\n",
       "    console.info(\"Bokeh: all callbacks have finished\");\n",
       "  }\n",
       "\n",
       "  function load_libs(js_urls, callback) {\n",
       "    root._bokeh_onload_callbacks.push(callback);\n",
       "    if (root._bokeh_is_loading > 0) {\n",
       "      console.log(\"Bokeh: BokehJS is being loaded, scheduling callback at\", now());\n",
       "      return null;\n",
       "    }\n",
       "    if (js_urls == null || js_urls.length === 0) {\n",
       "      run_callbacks();\n",
       "      return null;\n",
       "    }\n",
       "    console.log(\"Bokeh: BokehJS not loaded, scheduling load and callback at\", now());\n",
       "    root._bokeh_is_loading = js_urls.length;\n",
       "    for (var i = 0; i < js_urls.length; i++) {\n",
       "      var url = js_urls[i];\n",
       "      var s = document.createElement('script');\n",
       "      s.src = url;\n",
       "      s.async = false;\n",
       "      s.onreadystatechange = s.onload = function() {\n",
       "        root._bokeh_is_loading--;\n",
       "        if (root._bokeh_is_loading === 0) {\n",
       "          console.log(\"Bokeh: all BokehJS libraries loaded\");\n",
       "          run_callbacks()\n",
       "        }\n",
       "      };\n",
       "      s.onerror = function() {\n",
       "        console.warn(\"failed to load library \" + url);\n",
       "      };\n",
       "      console.log(\"Bokeh: injecting script tag for BokehJS library: \", url);\n",
       "      document.getElementsByTagName(\"head\")[0].appendChild(s);\n",
       "    }\n",
       "  };var element = document.getElementById(\"0dd3c065-5834-4b43-a7b4-9e7dfafe3200\");\n",
       "  if (element == null) {\n",
       "    console.log(\"Bokeh: ERROR: autoload.js configured with elementid '0dd3c065-5834-4b43-a7b4-9e7dfafe3200' but no matching script tag was found. \")\n",
       "    return false;\n",
       "  }\n",
       "\n",
       "  var js_urls = [\"https://cdn.pydata.org/bokeh/release/bokeh-0.12.10.min.js\", \"https://cdn.pydata.org/bokeh/release/bokeh-widgets-0.12.10.min.js\", \"https://cdn.pydata.org/bokeh/release/bokeh-tables-0.12.10.min.js\", \"https://cdn.pydata.org/bokeh/release/bokeh-gl-0.12.10.min.js\"];\n",
       "\n",
       "  var inline_js = [\n",
       "    function(Bokeh) {\n",
       "      Bokeh.set_log_level(\"info\");\n",
       "    },\n",
       "    \n",
       "    function(Bokeh) {\n",
       "      \n",
       "    },\n",
       "    function(Bokeh) {\n",
       "      console.log(\"Bokeh: injecting CSS: https://cdn.pydata.org/bokeh/release/bokeh-0.12.10.min.css\");\n",
       "      Bokeh.embed.inject_css(\"https://cdn.pydata.org/bokeh/release/bokeh-0.12.10.min.css\");\n",
       "      console.log(\"Bokeh: injecting CSS: https://cdn.pydata.org/bokeh/release/bokeh-widgets-0.12.10.min.css\");\n",
       "      Bokeh.embed.inject_css(\"https://cdn.pydata.org/bokeh/release/bokeh-widgets-0.12.10.min.css\");\n",
       "      console.log(\"Bokeh: injecting CSS: https://cdn.pydata.org/bokeh/release/bokeh-tables-0.12.10.min.css\");\n",
       "      Bokeh.embed.inject_css(\"https://cdn.pydata.org/bokeh/release/bokeh-tables-0.12.10.min.css\");\n",
       "    }\n",
       "  ];\n",
       "\n",
       "  function run_inline_js() {\n",
       "    \n",
       "    if ((root.Bokeh !== undefined) || (force === true)) {\n",
       "      for (var i = 0; i < inline_js.length; i++) {\n",
       "        inline_js[i].call(root, root.Bokeh);\n",
       "      }if (force === true) {\n",
       "        display_loaded();\n",
       "      }} else if (Date.now() < root._bokeh_timeout) {\n",
       "      setTimeout(run_inline_js, 100);\n",
       "    } else if (!root._bokeh_failed_load) {\n",
       "      console.log(\"Bokeh: BokehJS failed to load within specified timeout.\");\n",
       "      root._bokeh_failed_load = true;\n",
       "    } else if (force !== true) {\n",
       "      var cell = $(document.getElementById(\"0dd3c065-5834-4b43-a7b4-9e7dfafe3200\")).parents('.cell').data().cell;\n",
       "      cell.output_area.append_execute_result(NB_LOAD_WARNING)\n",
       "    }\n",
       "\n",
       "  }\n",
       "\n",
       "  if (root._bokeh_is_loading === 0) {\n",
       "    console.log(\"Bokeh: BokehJS loaded, going straight to plotting\");\n",
       "    run_inline_js();\n",
       "  } else {\n",
       "    load_libs(js_urls, function() {\n",
       "      console.log(\"Bokeh: BokehJS plotting callback run at\", now());\n",
       "      run_inline_js();\n",
       "    });\n",
       "  }\n",
       "}(window));"
      ],
      "application/vnd.bokehjs_load.v0+json": "\n(function(root) {\n  function now() {\n    return new Date();\n  }\n\n  var force = true;\n\n  if (typeof (root._bokeh_onload_callbacks) === \"undefined\" || force === true) {\n    root._bokeh_onload_callbacks = [];\n    root._bokeh_is_loading = undefined;\n  }\n\n  \n\n  \n  if (typeof (root._bokeh_timeout) === \"undefined\" || force === true) {\n    root._bokeh_timeout = Date.now() + 5000;\n    root._bokeh_failed_load = false;\n  }\n\n  var NB_LOAD_WARNING = {'data': {'text/html':\n     \"<div style='background-color: #fdd'>\\n\"+\n     \"<p>\\n\"+\n     \"BokehJS does not appear to have successfully loaded. If loading BokehJS from CDN, this \\n\"+\n     \"may be due to a slow or bad network connection. Possible fixes:\\n\"+\n     \"</p>\\n\"+\n     \"<ul>\\n\"+\n     \"<li>re-rerun `output_notebook()` to attempt to load from CDN again, or</li>\\n\"+\n     \"<li>use INLINE resources instead, as so:</li>\\n\"+\n     \"</ul>\\n\"+\n     \"<code>\\n\"+\n     \"from bokeh.resources import INLINE\\n\"+\n     \"output_notebook(resources=INLINE)\\n\"+\n     \"</code>\\n\"+\n     \"</div>\"}};\n\n  function display_loaded() {\n    var el = document.getElementById(\"0dd3c065-5834-4b43-a7b4-9e7dfafe3200\");\n    if (el != null) {\n      el.textContent = \"BokehJS is loading...\";\n    }\n    if (root.Bokeh !== undefined) {\n      if (el != null) {\n        el.textContent = \"BokehJS \" + root.Bokeh.version + \" successfully loaded.\";\n      }\n    } else if (Date.now() < root._bokeh_timeout) {\n      setTimeout(display_loaded, 100)\n    }\n  }\n\n\n  function run_callbacks() {\n    try {\n      root._bokeh_onload_callbacks.forEach(function(callback) { callback() });\n    }\n    finally {\n      delete root._bokeh_onload_callbacks\n    }\n    console.info(\"Bokeh: all callbacks have finished\");\n  }\n\n  function load_libs(js_urls, callback) {\n    root._bokeh_onload_callbacks.push(callback);\n    if (root._bokeh_is_loading > 0) {\n      console.log(\"Bokeh: BokehJS is being loaded, scheduling callback at\", now());\n      return null;\n    }\n    if (js_urls == null || js_urls.length === 0) {\n      run_callbacks();\n      return null;\n    }\n    console.log(\"Bokeh: BokehJS not loaded, scheduling load and callback at\", now());\n    root._bokeh_is_loading = js_urls.length;\n    for (var i = 0; i < js_urls.length; i++) {\n      var url = js_urls[i];\n      var s = document.createElement('script');\n      s.src = url;\n      s.async = false;\n      s.onreadystatechange = s.onload = function() {\n        root._bokeh_is_loading--;\n        if (root._bokeh_is_loading === 0) {\n          console.log(\"Bokeh: all BokehJS libraries loaded\");\n          run_callbacks()\n        }\n      };\n      s.onerror = function() {\n        console.warn(\"failed to load library \" + url);\n      };\n      console.log(\"Bokeh: injecting script tag for BokehJS library: \", url);\n      document.getElementsByTagName(\"head\")[0].appendChild(s);\n    }\n  };var element = document.getElementById(\"0dd3c065-5834-4b43-a7b4-9e7dfafe3200\");\n  if (element == null) {\n    console.log(\"Bokeh: ERROR: autoload.js configured with elementid '0dd3c065-5834-4b43-a7b4-9e7dfafe3200' but no matching script tag was found. \")\n    return false;\n  }\n\n  var js_urls = [\"https://cdn.pydata.org/bokeh/release/bokeh-0.12.10.min.js\", \"https://cdn.pydata.org/bokeh/release/bokeh-widgets-0.12.10.min.js\", \"https://cdn.pydata.org/bokeh/release/bokeh-tables-0.12.10.min.js\", \"https://cdn.pydata.org/bokeh/release/bokeh-gl-0.12.10.min.js\"];\n\n  var inline_js = [\n    function(Bokeh) {\n      Bokeh.set_log_level(\"info\");\n    },\n    \n    function(Bokeh) {\n      \n    },\n    function(Bokeh) {\n      console.log(\"Bokeh: injecting CSS: https://cdn.pydata.org/bokeh/release/bokeh-0.12.10.min.css\");\n      Bokeh.embed.inject_css(\"https://cdn.pydata.org/bokeh/release/bokeh-0.12.10.min.css\");\n      console.log(\"Bokeh: injecting CSS: https://cdn.pydata.org/bokeh/release/bokeh-widgets-0.12.10.min.css\");\n      Bokeh.embed.inject_css(\"https://cdn.pydata.org/bokeh/release/bokeh-widgets-0.12.10.min.css\");\n      console.log(\"Bokeh: injecting CSS: https://cdn.pydata.org/bokeh/release/bokeh-tables-0.12.10.min.css\");\n      Bokeh.embed.inject_css(\"https://cdn.pydata.org/bokeh/release/bokeh-tables-0.12.10.min.css\");\n    }\n  ];\n\n  function run_inline_js() {\n    \n    if ((root.Bokeh !== undefined) || (force === true)) {\n      for (var i = 0; i < inline_js.length; i++) {\n        inline_js[i].call(root, root.Bokeh);\n      }if (force === true) {\n        display_loaded();\n      }} else if (Date.now() < root._bokeh_timeout) {\n      setTimeout(run_inline_js, 100);\n    } else if (!root._bokeh_failed_load) {\n      console.log(\"Bokeh: BokehJS failed to load within specified timeout.\");\n      root._bokeh_failed_load = true;\n    } else if (force !== true) {\n      var cell = $(document.getElementById(\"0dd3c065-5834-4b43-a7b4-9e7dfafe3200\")).parents('.cell').data().cell;\n      cell.output_area.append_execute_result(NB_LOAD_WARNING)\n    }\n\n  }\n\n  if (root._bokeh_is_loading === 0) {\n    console.log(\"Bokeh: BokehJS loaded, going straight to plotting\");\n    run_inline_js();\n  } else {\n    load_libs(js_urls, function() {\n      console.log(\"Bokeh: BokehJS plotting callback run at\", now());\n      run_inline_js();\n    });\n  }\n}(window));"
     },
     "metadata": {},
     "output_type": "display_data"
    }
   ],
   "source": [
    "# Importamos nuestra librerías básicas\n",
    "import numpy as np\n",
    "import pandas as pd\n",
    "import os\n",
    "from sklearn.datasets import fetch_mldata\n",
    "from sklearn.datasets import make_classification\n",
    "from sklearn.preprocessing import StandardScaler\n",
    "from sklearn.linear_model import LogisticRegression\n",
    "from sklearn.model_selection import RandomizedSearchCV\n",
    "\n",
    "import matplotlib.pyplot as plt\n",
    "import seaborn as sns\n",
    "from bokeh.plotting import figure, show, Figure, output_notebook\n",
    "output_notebook()\n",
    "\n",
    "# Este paso es para que los resultados en vuestros notebooks sean iguales a lo de este\n",
    "np.random.seed(42)\n"
   ]
  },
  {
   "cell_type": "markdown",
   "metadata": {
    "slideshow": {
     "slide_type": "slide"
    }
   },
   "source": [
    "# Aprendizaje supervisado - Regresión Logistica\n",
    "\n",
    "En este notebook vamos implementar la clasificación de digitos de la serie MNIST\n",
    "En la mayoría de nuestros ejemplos utilizaremos la librería de Machine Learning \n",
    "Scikit-Learn."
   ]
  },
  {
   "cell_type": "markdown",
   "metadata": {
    "slideshow": {
     "slide_type": "slide"
    }
   },
   "source": [
    "# Como funciona la regresion logistica"
   ]
  },
  {
   "cell_type": "code",
   "execution_count": 2,
   "metadata": {},
   "outputs": [
    {
     "data": {
      "text/html": [
       "\n",
       "<div class=\"bk-root\">\n",
       "    <div class=\"bk-plotdiv\" id=\"1402d139-d3fc-46d3-9775-0a0419ca21b9\"></div>\n",
       "</div>"
      ]
     },
     "metadata": {},
     "output_type": "display_data"
    },
    {
     "data": {
      "application/javascript": [
       "(function(root) {\n",
       "  function embed_document(root) {\n",
       "    var docs_json = {\"6e881ae9-bca7-4734-ad87-fe8e0249d4eb\":{\"roots\":{\"references\":[{\"attributes\":{\"callback\":null},\"id\":\"8cb4aa41-2a35-48ff-9f51-120f01c4ae56\",\"type\":\"DataRange1d\"},{\"attributes\":{},\"id\":\"1736b7c5-56ba-414c-8256-c8fb4db79b1d\",\"type\":\"LinearScale\"},{\"attributes\":{},\"id\":\"96891d6d-2ce0-4c03-bbcd-6ff46cd28e0c\",\"type\":\"LinearScale\"},{\"attributes\":{\"axis_label\":\"Primera prueba\",\"formatter\":{\"id\":\"5b1c39c3-a611-49fb-840c-fd7780c1bc13\",\"type\":\"BasicTickFormatter\"},\"plot\":{\"id\":\"946b843a-b6fc-402f-aa23-0fd31a480704\",\"subtype\":\"Figure\",\"type\":\"Plot\"},\"ticker\":{\"id\":\"cbadf4c2-1aa3-4f32-854c-cd8564fb3147\",\"type\":\"BasicTicker\"}},\"id\":\"03fa1957-74f2-4be5-886f-4ea4bb8594b6\",\"type\":\"LinearAxis\"},{\"attributes\":{},\"id\":\"cbadf4c2-1aa3-4f32-854c-cd8564fb3147\",\"type\":\"BasicTicker\"},{\"attributes\":{\"plot\":{\"id\":\"946b843a-b6fc-402f-aa23-0fd31a480704\",\"subtype\":\"Figure\",\"type\":\"Plot\"},\"ticker\":{\"id\":\"cbadf4c2-1aa3-4f32-854c-cd8564fb3147\",\"type\":\"BasicTicker\"}},\"id\":\"c25132aa-e10b-4290-a4b7-5b759ec23db9\",\"type\":\"Grid\"},{\"attributes\":{\"axis_label\":\"Segunda prueba\",\"formatter\":{\"id\":\"519ecd37-e4ee-4b5b-a4a9-d3e3ababada1\",\"type\":\"BasicTickFormatter\"},\"plot\":{\"id\":\"946b843a-b6fc-402f-aa23-0fd31a480704\",\"subtype\":\"Figure\",\"type\":\"Plot\"},\"ticker\":{\"id\":\"ca2cd545-91d4-4f4d-a382-9677bff8b181\",\"type\":\"BasicTicker\"}},\"id\":\"5ed9bbe2-f506-4029-ac1d-754af6250ec7\",\"type\":\"LinearAxis\"},{\"attributes\":{},\"id\":\"ca2cd545-91d4-4f4d-a382-9677bff8b181\",\"type\":\"BasicTicker\"},{\"attributes\":{\"dimension\":1,\"plot\":{\"id\":\"946b843a-b6fc-402f-aa23-0fd31a480704\",\"subtype\":\"Figure\",\"type\":\"Plot\"},\"ticker\":{\"id\":\"ca2cd545-91d4-4f4d-a382-9677bff8b181\",\"type\":\"BasicTicker\"}},\"id\":\"be7cab53-3791-4679-ad5c-6a3c763f452b\",\"type\":\"Grid\"},{\"attributes\":{\"bottom_units\":\"screen\",\"fill_alpha\":{\"value\":0.5},\"fill_color\":{\"value\":\"lightgrey\"},\"left_units\":\"screen\",\"level\":\"overlay\",\"line_alpha\":{\"value\":1.0},\"line_color\":{\"value\":\"black\"},\"line_dash\":[4,4],\"line_width\":{\"value\":2},\"plot\":null,\"render_mode\":\"css\",\"right_units\":\"screen\",\"top_units\":\"screen\"},\"id\":\"b4bf4584-20b3-41f5-84d9-7baec8c0cbc8\",\"type\":\"BoxAnnotation\"},{\"attributes\":{\"callback\":null,\"column_names\":[\"x\",\"y\"],\"data\":{\"x\":{\"__ndarray__\":\"oBYmUIXT9T+m5/ZMljn6P5w/92xv+/0/cgXWbkur9z+TTNtVksniv8BLUJZ2CPW/f/osRqgz3D8iwwIKfWP1v52xENFq2+c/d10Iaz0IxL8nD4XJ4N3YP6jrGRdgSbi/SGkb/WKk6b+gtSojvvbnv3wfciyVbuG/XuVHQhe/vL/v7znc3pbdv/qsO6B0Uc2/\",\"dtype\":\"float64\",\"shape\":[18]},\"y\":{\"__ndarray__\":\"6KLMGfA39b/MCSBa9rfyv/RKFl8E6ea/X8hlJXf3578M8AYN1Ovbv28AejCvlvq/YexOg9ka2b8y/RLNvS4BwEhL/+acg+i/a6RqZule4L8kaKW8Lujpv5CIatEXWuq/IJesKjZ+8L+kILIjeKvfv/JgudJ1RnG/ugvrT9Mo6j8Bl5XWJ/zHv4WUGEYNNNK/\",\"dtype\":\"float64\",\"shape\":[18]}}},\"id\":\"14de73ff-b189-4035-8e68-2feefc35c7fe\",\"type\":\"ColumnDataSource\"},{\"attributes\":{\"fill_alpha\":{\"value\":0.1},\"fill_color\":{\"value\":\"#1f77b4\"},\"line_alpha\":{\"value\":0.1},\"line_color\":{\"value\":\"#1f77b4\"},\"x\":{\"field\":\"x\"},\"y\":{\"field\":\"y\"}},\"id\":\"1752cf32-c621-4b75-9a19-9f77c0edf631\",\"type\":\"Circle\"},{\"attributes\":{},\"id\":\"c593c25f-5385-4da3-ba16-51b5f6c443de\",\"type\":\"PanTool\"},{\"attributes\":{},\"id\":\"1a402476-d50f-4c5f-bb93-829080902ed6\",\"type\":\"WheelZoomTool\"},{\"attributes\":{\"overlay\":{\"id\":\"b4bf4584-20b3-41f5-84d9-7baec8c0cbc8\",\"type\":\"BoxAnnotation\"}},\"id\":\"2dbc788a-3c18-4adb-84f3-505d2f53fee1\",\"type\":\"BoxZoomTool\"},{\"attributes\":{\"fill_color\":{\"value\":\"red\"},\"line_color\":{\"value\":\"red\"},\"x\":{\"field\":\"x\"},\"y\":{\"field\":\"y\"}},\"id\":\"8aea38d5-6627-4837-bce3-80fb6d9ac800\",\"type\":\"Circle\"},{\"attributes\":{\"source\":{\"id\":\"14de73ff-b189-4035-8e68-2feefc35c7fe\",\"type\":\"ColumnDataSource\"}},\"id\":\"69103216-1fd8-4bc0-aeb4-a223c9f99231\",\"type\":\"CDSView\"},{\"attributes\":{},\"id\":\"b94cdc35-0f63-4126-a377-a73c71a2e615\",\"type\":\"SaveTool\"},{\"attributes\":{},\"id\":\"baf7f596-0752-41df-b1c4-f56c1c8fbe68\",\"type\":\"ResetTool\"},{\"attributes\":{},\"id\":\"bdb265c0-cda8-42f0-b194-16d080211700\",\"type\":\"HelpTool\"},{\"attributes\":{\"fill_alpha\":{\"value\":0.1},\"fill_color\":{\"value\":\"#1f77b4\"},\"line_alpha\":{\"value\":0.1},\"line_color\":{\"value\":\"#1f77b4\"},\"x\":{\"field\":\"x\"},\"y\":{\"field\":\"y\"}},\"id\":\"0ec49676-33c9-4187-8c48-055a2e950dc5\",\"type\":\"Circle\"},{\"attributes\":{},\"id\":\"5b1c39c3-a611-49fb-840c-fd7780c1bc13\",\"type\":\"BasicTickFormatter\"},{\"attributes\":{\"data_source\":{\"id\":\"14de73ff-b189-4035-8e68-2feefc35c7fe\",\"type\":\"ColumnDataSource\"},\"glyph\":{\"id\":\"8aea38d5-6627-4837-bce3-80fb6d9ac800\",\"type\":\"Circle\"},\"hover_glyph\":null,\"muted_glyph\":null,\"nonselection_glyph\":{\"id\":\"1752cf32-c621-4b75-9a19-9f77c0edf631\",\"type\":\"Circle\"},\"selection_glyph\":null,\"view\":{\"id\":\"69103216-1fd8-4bc0-aeb4-a223c9f99231\",\"type\":\"CDSView\"}},\"id\":\"eed36bfd-b074-433a-842b-9ed047faa5dc\",\"type\":\"GlyphRenderer\"},{\"attributes\":{\"plot\":null,\"text\":\"\"},\"id\":\"cdfcde90-98fb-4d04-85cf-4040a622ca20\",\"type\":\"Title\"},{\"attributes\":{\"data_source\":{\"id\":\"15d3963f-c882-4a1b-bd6d-9ce25ab35ef1\",\"type\":\"ColumnDataSource\"},\"glyph\":{\"id\":\"dc06aece-711f-4554-a740-a6df01c97d13\",\"type\":\"Circle\"},\"hover_glyph\":null,\"muted_glyph\":null,\"nonselection_glyph\":{\"id\":\"0ec49676-33c9-4187-8c48-055a2e950dc5\",\"type\":\"Circle\"},\"selection_glyph\":null,\"view\":{\"id\":\"2c154677-4fb6-4e96-96bc-6dafaba47f77\",\"type\":\"CDSView\"}},\"id\":\"9638e1f6-7105-490b-8187-49b97b4ecc80\",\"type\":\"GlyphRenderer\"},{\"attributes\":{},\"id\":\"519ecd37-e4ee-4b5b-a4a9-d3e3ababada1\",\"type\":\"BasicTickFormatter\"},{\"attributes\":{\"fill_color\":{\"value\":\"blue\"},\"line_color\":{\"value\":\"blue\"},\"x\":{\"field\":\"x\"},\"y\":{\"field\":\"y\"}},\"id\":\"dc06aece-711f-4554-a740-a6df01c97d13\",\"type\":\"Circle\"},{\"attributes\":{\"below\":[{\"id\":\"03fa1957-74f2-4be5-886f-4ea4bb8594b6\",\"type\":\"LinearAxis\"}],\"left\":[{\"id\":\"5ed9bbe2-f506-4029-ac1d-754af6250ec7\",\"type\":\"LinearAxis\"}],\"plot_height\":450,\"plot_width\":450,\"renderers\":[{\"id\":\"03fa1957-74f2-4be5-886f-4ea4bb8594b6\",\"type\":\"LinearAxis\"},{\"id\":\"c25132aa-e10b-4290-a4b7-5b759ec23db9\",\"type\":\"Grid\"},{\"id\":\"5ed9bbe2-f506-4029-ac1d-754af6250ec7\",\"type\":\"LinearAxis\"},{\"id\":\"be7cab53-3791-4679-ad5c-6a3c763f452b\",\"type\":\"Grid\"},{\"id\":\"b4bf4584-20b3-41f5-84d9-7baec8c0cbc8\",\"type\":\"BoxAnnotation\"},{\"id\":\"eed36bfd-b074-433a-842b-9ed047faa5dc\",\"type\":\"GlyphRenderer\"},{\"id\":\"9638e1f6-7105-490b-8187-49b97b4ecc80\",\"type\":\"GlyphRenderer\"}],\"title\":{\"id\":\"cdfcde90-98fb-4d04-85cf-4040a622ca20\",\"type\":\"Title\"},\"toolbar\":{\"id\":\"cd321348-f32a-4d1c-a69e-51a0cbf8cabd\",\"type\":\"Toolbar\"},\"x_range\":{\"id\":\"89d5ffed-8c9e-4be5-abee-6e7e2318f4fc\",\"type\":\"DataRange1d\"},\"x_scale\":{\"id\":\"1736b7c5-56ba-414c-8256-c8fb4db79b1d\",\"type\":\"LinearScale\"},\"y_range\":{\"id\":\"8cb4aa41-2a35-48ff-9f51-120f01c4ae56\",\"type\":\"DataRange1d\"},\"y_scale\":{\"id\":\"96891d6d-2ce0-4c03-bbcd-6ff46cd28e0c\",\"type\":\"LinearScale\"}},\"id\":\"946b843a-b6fc-402f-aa23-0fd31a480704\",\"subtype\":\"Figure\",\"type\":\"Plot\"},{\"attributes\":{\"source\":{\"id\":\"15d3963f-c882-4a1b-bd6d-9ce25ab35ef1\",\"type\":\"ColumnDataSource\"}},\"id\":\"2c154677-4fb6-4e96-96bc-6dafaba47f77\",\"type\":\"CDSView\"},{\"attributes\":{\"callback\":null,\"column_names\":[\"x\",\"y\"],\"data\":{\"x\":{\"__ndarray__\":\"pJCaKSlg3D/KsgG2/Zbsv7GGrKDUz+q/zNbV/6yW1b8ZLHiFQwj0P+jF022rF+w/5V/jNB/x7j+oK9eRBFrtPw7+4s8fffG/6yNk1Kdj+L/k7CNXqbD9v//wuG3eU+E/\",\"dtype\":\"float64\",\"shape\":[12]},\"y\":{\"__ndarray__\":\"verbI40U8j804dkeSgjpP+WB5ciCLe4/494snCEw9z+5AmVG1mjuP/Kf4D9p2/Q/6yH00El57j9b448VEwjyP3/OXs+IX+4/BUsM4ciu8j+J5rUy1L3tP/wMUClBKfA/\",\"dtype\":\"float64\",\"shape\":[12]}}},\"id\":\"15d3963f-c882-4a1b-bd6d-9ce25ab35ef1\",\"type\":\"ColumnDataSource\"},{\"attributes\":{\"active_drag\":\"auto\",\"active_inspect\":\"auto\",\"active_scroll\":\"auto\",\"active_tap\":\"auto\",\"tools\":[{\"id\":\"c593c25f-5385-4da3-ba16-51b5f6c443de\",\"type\":\"PanTool\"},{\"id\":\"1a402476-d50f-4c5f-bb93-829080902ed6\",\"type\":\"WheelZoomTool\"},{\"id\":\"2dbc788a-3c18-4adb-84f3-505d2f53fee1\",\"type\":\"BoxZoomTool\"},{\"id\":\"b94cdc35-0f63-4126-a377-a73c71a2e615\",\"type\":\"SaveTool\"},{\"id\":\"baf7f596-0752-41df-b1c4-f56c1c8fbe68\",\"type\":\"ResetTool\"},{\"id\":\"bdb265c0-cda8-42f0-b194-16d080211700\",\"type\":\"HelpTool\"}]},\"id\":\"cd321348-f32a-4d1c-a69e-51a0cbf8cabd\",\"type\":\"Toolbar\"},{\"attributes\":{\"callback\":null},\"id\":\"89d5ffed-8c9e-4be5-abee-6e7e2318f4fc\",\"type\":\"DataRange1d\"}],\"root_ids\":[\"946b843a-b6fc-402f-aa23-0fd31a480704\"]},\"title\":\"Bokeh Application\",\"version\":\"0.12.10\"}};\n",
       "    var render_items = [{\"docid\":\"6e881ae9-bca7-4734-ad87-fe8e0249d4eb\",\"elementid\":\"1402d139-d3fc-46d3-9775-0a0419ca21b9\",\"modelid\":\"946b843a-b6fc-402f-aa23-0fd31a480704\"}];\n",
       "\n",
       "    root.Bokeh.embed.embed_items(docs_json, render_items);\n",
       "  }\n",
       "\n",
       "  if (root.Bokeh !== undefined) {\n",
       "    embed_document(root);\n",
       "  } else {\n",
       "    var attempts = 0;\n",
       "    var timer = setInterval(function(root) {\n",
       "      if (root.Bokeh !== undefined) {\n",
       "        embed_document(root);\n",
       "        clearInterval(timer);\n",
       "      }\n",
       "      attempts++;\n",
       "      if (attempts > 100) {\n",
       "        console.log(\"Bokeh: ERROR: Unable to embed document because BokehJS library is missing\")\n",
       "        clearInterval(timer);\n",
       "      }\n",
       "    }, 10, root)\n",
       "  }\n",
       "})(window);"
      ],
      "application/vnd.bokehjs_exec.v0+json": ""
     },
     "metadata": {
      "application/vnd.bokehjs_exec.v0+json": {
       "id": "946b843a-b6fc-402f-aa23-0fd31a480704"
      }
     },
     "output_type": "display_data"
    }
   ],
   "source": [
    "# Para empezar creamos un dataset ejemplo con sklearn\n",
    "data = make_classification(n_samples=30, n_features=2, n_informative=2, n_redundant=0,\n",
    "                           weights=[.6, .4], random_state=42)\n",
    "\n",
    "# Separo entre *features* y el objetivo\n",
    "scale = StandardScaler().fit(data[0])\n",
    "features = scale.transform(data[0])\n",
    "target = data[1]\n",
    "\n",
    "# Dibujo las muestras\n",
    "p = figure(height=450, width=450)\n",
    "p.xaxis.axis_label = \"Primera prueba\"\n",
    "p.yaxis.axis_label = \"Segunda prueba\"\n",
    "nok = features[target == 0]\n",
    "ok = features[target == 1]\n",
    "p.scatter(nok[:,0], nok[:,1], color=\"red\")\n",
    "p.scatter(ok[:,0], ok[:,1], color = \"blue\")\n",
    "show(p)"
   ]
  },
  {
   "cell_type": "markdown",
   "metadata": {
    "slideshow": {
     "slide_type": "slide"
    }
   },
   "source": [
    "# Aplicamos la regresión logísitica para separar las muestras"
   ]
  },
  {
   "cell_type": "code",
   "execution_count": 3,
   "metadata": {},
   "outputs": [
    {
     "data": {
      "text/html": [
       "\n",
       "<div class=\"bk-root\">\n",
       "    <div class=\"bk-plotdiv\" id=\"e24dfa17-e5d7-4b02-a887-bd632a75f36e\"></div>\n",
       "</div>"
      ]
     },
     "metadata": {},
     "output_type": "display_data"
    },
    {
     "data": {
      "application/javascript": [
       "(function(root) {\n",
       "  function embed_document(root) {\n",
       "    var docs_json = {\"865ae7fd-91c7-4a95-ba95-ba9f991bd80f\":{\"roots\":{\"references\":[{\"attributes\":{\"data_source\":{\"id\":\"747fa004-e8a7-4f8a-a523-1416efe11689\",\"type\":\"ColumnDataSource\"},\"glyph\":{\"id\":\"2d1e83e1-1171-42fa-9bf2-60eccc2df697\",\"type\":\"Circle\"},\"hover_glyph\":null,\"muted_glyph\":null,\"nonselection_glyph\":{\"id\":\"790ac389-4a7c-4015-b639-d194388166fe\",\"type\":\"Circle\"},\"selection_glyph\":null,\"view\":{\"id\":\"ffc7a437-9016-402a-8ce0-be33c0691d2f\",\"type\":\"CDSView\"}},\"id\":\"f0679246-382a-41dd-b65d-590bc875f7ab\",\"type\":\"GlyphRenderer\"},{\"attributes\":{\"dimension\":1,\"plot\":{\"id\":\"a34fe731-eb8c-4e85-b591-7beac6f77913\",\"subtype\":\"Figure\",\"type\":\"Plot\"},\"ticker\":{\"id\":\"e1348299-ff11-47bb-bb99-c139f8fdaf21\",\"type\":\"BasicTicker\"}},\"id\":\"6311e7e2-05d6-42b5-9e08-608bcae8714c\",\"type\":\"Grid\"},{\"attributes\":{\"source\":{\"id\":\"747fa004-e8a7-4f8a-a523-1416efe11689\",\"type\":\"ColumnDataSource\"}},\"id\":\"ffc7a437-9016-402a-8ce0-be33c0691d2f\",\"type\":\"CDSView\"},{\"attributes\":{\"fill_alpha\":{\"value\":0.1},\"fill_color\":{\"value\":\"#1f77b4\"},\"line_alpha\":{\"value\":0.1},\"line_color\":{\"value\":\"#1f77b4\"},\"x\":{\"field\":\"x\"},\"y\":{\"field\":\"y\"}},\"id\":\"790ac389-4a7c-4015-b639-d194388166fe\",\"type\":\"Circle\"},{\"attributes\":{\"line_color\":{\"value\":\"#1f77b4\"},\"x\":{\"field\":\"x\"},\"y\":{\"field\":\"y\"}},\"id\":\"447d25e7-46d0-4766-b1ba-75b469a3d7ad\",\"type\":\"Line\"},{\"attributes\":{\"bottom_units\":\"screen\",\"fill_alpha\":{\"value\":0.5},\"fill_color\":{\"value\":\"lightgrey\"},\"left_units\":\"screen\",\"level\":\"overlay\",\"line_alpha\":{\"value\":1.0},\"line_color\":{\"value\":\"black\"},\"line_dash\":[4,4],\"line_width\":{\"value\":2},\"plot\":null,\"render_mode\":\"css\",\"right_units\":\"screen\",\"top_units\":\"screen\"},\"id\":\"97388739-9534-4011-a3ad-d39f31b421f3\",\"type\":\"BoxAnnotation\"},{\"attributes\":{},\"id\":\"0b5af133-9f6c-4f87-b096-f066c89159fe\",\"type\":\"PanTool\"},{\"attributes\":{},\"id\":\"670776d1-f190-4677-bc36-b9699805975c\",\"type\":\"BasicTickFormatter\"},{\"attributes\":{},\"id\":\"b0eb76fd-93f0-49fc-8cbc-640643f94a86\",\"type\":\"WheelZoomTool\"},{\"attributes\":{\"overlay\":{\"id\":\"97388739-9534-4011-a3ad-d39f31b421f3\",\"type\":\"BoxAnnotation\"}},\"id\":\"d010bdca-dcbe-460d-a837-83bd90418eec\",\"type\":\"BoxZoomTool\"},{\"attributes\":{},\"id\":\"b7c2dee1-c909-4690-8fcc-8489774674fd\",\"type\":\"SaveTool\"},{\"attributes\":{},\"id\":\"ccddb20e-f0a5-49d3-a2ff-5c475a05c41b\",\"type\":\"ResetTool\"},{\"attributes\":{},\"id\":\"9b9ccf01-efcd-4bf9-b30a-d431c2ba2c90\",\"type\":\"HelpTool\"},{\"attributes\":{\"fill_alpha\":{\"value\":0.1},\"fill_color\":{\"value\":\"#1f77b4\"},\"line_alpha\":{\"value\":0.1},\"line_color\":{\"value\":\"#1f77b4\"},\"x\":{\"field\":\"x\"},\"y\":{\"field\":\"y\"}},\"id\":\"dccd9658-15e3-41a6-ae16-3aab26054771\",\"type\":\"Circle\"},{\"attributes\":{\"plot\":null,\"text\":\"\"},\"id\":\"37bb65bd-970e-40a5-b5a3-e7570b0af24c\",\"type\":\"Title\"},{\"attributes\":{},\"id\":\"13783188-229f-4833-9966-1caed00904bb\",\"type\":\"BasicTickFormatter\"},{\"attributes\":{\"fill_color\":{\"value\":\"red\"},\"line_color\":{\"value\":\"red\"},\"x\":{\"field\":\"x\"},\"y\":{\"field\":\"y\"}},\"id\":\"2d1e83e1-1171-42fa-9bf2-60eccc2df697\",\"type\":\"Circle\"},{\"attributes\":{\"fill_color\":{\"value\":\"blue\"},\"line_color\":{\"value\":\"blue\"},\"x\":{\"field\":\"x\"},\"y\":{\"field\":\"y\"}},\"id\":\"0f35e9df-cfda-49fe-a6d4-c3464274e22f\",\"type\":\"Circle\"},{\"attributes\":{\"plot\":{\"id\":\"a34fe731-eb8c-4e85-b591-7beac6f77913\",\"subtype\":\"Figure\",\"type\":\"Plot\"},\"ticker\":{\"id\":\"5fc0607b-c0f3-4a82-a7c6-8a1b78e3d899\",\"type\":\"BasicTicker\"}},\"id\":\"a7f7b4c3-b7ac-4bc7-89b9-e3c6516a08bb\",\"type\":\"Grid\"},{\"attributes\":{\"source\":{\"id\":\"12ecacda-1d82-41e0-8e3e-b7058512af66\",\"type\":\"ColumnDataSource\"}},\"id\":\"ef157f3a-718e-4ba4-98f3-aa29dff34acf\",\"type\":\"CDSView\"},{\"attributes\":{\"callback\":null,\"column_names\":[\"x\",\"y\"],\"data\":{\"x\":{\"__ndarray__\":\"oBYmUIXT9T+m5/ZMljn6P5w/92xv+/0/cgXWbkur9z+TTNtVksniv8BLUJZ2CPW/f/osRqgz3D8iwwIKfWP1v52xENFq2+c/d10Iaz0IxL8nD4XJ4N3YP6jrGRdgSbi/SGkb/WKk6b+gtSojvvbnv3wfciyVbuG/XuVHQhe/vL/v7znc3pbdv/qsO6B0Uc2/\",\"dtype\":\"float64\",\"shape\":[18]},\"y\":{\"__ndarray__\":\"6KLMGfA39b/MCSBa9rfyv/RKFl8E6ea/X8hlJXf3578M8AYN1Ovbv28AejCvlvq/YexOg9ka2b8y/RLNvS4BwEhL/+acg+i/a6RqZule4L8kaKW8Lujpv5CIatEXWuq/IJesKjZ+8L+kILIjeKvfv/JgudJ1RnG/ugvrT9Mo6j8Bl5XWJ/zHv4WUGEYNNNK/\",\"dtype\":\"float64\",\"shape\":[18]}}},\"id\":\"747fa004-e8a7-4f8a-a523-1416efe11689\",\"type\":\"ColumnDataSource\"},{\"attributes\":{\"callback\":null,\"column_names\":[\"x\",\"y\"],\"data\":{\"x\":{\"__ndarray__\":\"/v///wIAAAA=\",\"dtype\":\"int32\",\"shape\":[2]},\"y\":{\"__ndarray__\":\"A9KMf4dT0D9Wy3Ais9fXPw==\",\"dtype\":\"float64\",\"shape\":[2]}}},\"id\":\"b2596f5a-4218-46df-a053-9e21b0be8662\",\"type\":\"ColumnDataSource\"},{\"attributes\":{\"data_source\":{\"id\":\"12ecacda-1d82-41e0-8e3e-b7058512af66\",\"type\":\"ColumnDataSource\"},\"glyph\":{\"id\":\"0f35e9df-cfda-49fe-a6d4-c3464274e22f\",\"type\":\"Circle\"},\"hover_glyph\":null,\"muted_glyph\":null,\"nonselection_glyph\":{\"id\":\"dccd9658-15e3-41a6-ae16-3aab26054771\",\"type\":\"Circle\"},\"selection_glyph\":null,\"view\":{\"id\":\"ef157f3a-718e-4ba4-98f3-aa29dff34acf\",\"type\":\"CDSView\"}},\"id\":\"f2f1602e-0840-4b94-beb3-31b703af06c3\",\"type\":\"GlyphRenderer\"},{\"attributes\":{\"callback\":null,\"column_names\":[\"x\",\"y\"],\"data\":{\"x\":{\"__ndarray__\":\"pJCaKSlg3D/KsgG2/Zbsv7GGrKDUz+q/zNbV/6yW1b8ZLHiFQwj0P+jF022rF+w/5V/jNB/x7j+oK9eRBFrtPw7+4s8fffG/6yNk1Kdj+L/k7CNXqbD9v//wuG3eU+E/\",\"dtype\":\"float64\",\"shape\":[12]},\"y\":{\"__ndarray__\":\"verbI40U8j804dkeSgjpP+WB5ciCLe4/494snCEw9z+5AmVG1mjuP/Kf4D9p2/Q/6yH00El57j9b448VEwjyP3/OXs+IX+4/BUsM4ciu8j+J5rUy1L3tP/wMUClBKfA/\",\"dtype\":\"float64\",\"shape\":[12]}}},\"id\":\"12ecacda-1d82-41e0-8e3e-b7058512af66\",\"type\":\"ColumnDataSource\"},{\"attributes\":{\"line_alpha\":{\"value\":0.1},\"line_color\":{\"value\":\"#1f77b4\"},\"x\":{\"field\":\"x\"},\"y\":{\"field\":\"y\"}},\"id\":\"7f45e784-8fae-4608-a64a-aae8c01ea4a8\",\"type\":\"Line\"},{\"attributes\":{\"axis_label\":\"Segunda prueba\",\"formatter\":{\"id\":\"670776d1-f190-4677-bc36-b9699805975c\",\"type\":\"BasicTickFormatter\"},\"plot\":{\"id\":\"a34fe731-eb8c-4e85-b591-7beac6f77913\",\"subtype\":\"Figure\",\"type\":\"Plot\"},\"ticker\":{\"id\":\"e1348299-ff11-47bb-bb99-c139f8fdaf21\",\"type\":\"BasicTicker\"}},\"id\":\"83387756-8c42-4882-946b-0801813eba8e\",\"type\":\"LinearAxis\"},{\"attributes\":{\"data_source\":{\"id\":\"b2596f5a-4218-46df-a053-9e21b0be8662\",\"type\":\"ColumnDataSource\"},\"glyph\":{\"id\":\"447d25e7-46d0-4766-b1ba-75b469a3d7ad\",\"type\":\"Line\"},\"hover_glyph\":null,\"muted_glyph\":null,\"nonselection_glyph\":{\"id\":\"7f45e784-8fae-4608-a64a-aae8c01ea4a8\",\"type\":\"Line\"},\"selection_glyph\":null,\"view\":{\"id\":\"52d67676-cfd8-4de6-aa08-fbd908f10c1d\",\"type\":\"CDSView\"}},\"id\":\"e1c4bf90-630e-490f-b71a-b008ac85aa53\",\"type\":\"GlyphRenderer\"},{\"attributes\":{\"active_drag\":\"auto\",\"active_inspect\":\"auto\",\"active_scroll\":\"auto\",\"active_tap\":\"auto\",\"tools\":[{\"id\":\"0b5af133-9f6c-4f87-b096-f066c89159fe\",\"type\":\"PanTool\"},{\"id\":\"b0eb76fd-93f0-49fc-8cbc-640643f94a86\",\"type\":\"WheelZoomTool\"},{\"id\":\"d010bdca-dcbe-460d-a837-83bd90418eec\",\"type\":\"BoxZoomTool\"},{\"id\":\"b7c2dee1-c909-4690-8fcc-8489774674fd\",\"type\":\"SaveTool\"},{\"id\":\"ccddb20e-f0a5-49d3-a2ff-5c475a05c41b\",\"type\":\"ResetTool\"},{\"id\":\"9b9ccf01-efcd-4bf9-b30a-d431c2ba2c90\",\"type\":\"HelpTool\"}]},\"id\":\"c95a422d-4c47-4124-8550-a59800d8069a\",\"type\":\"Toolbar\"},{\"attributes\":{\"callback\":null},\"id\":\"6c9998ae-8b48-4a33-b5b5-440560da74b3\",\"type\":\"DataRange1d\"},{\"attributes\":{\"axis_label\":\"Primera prueba\",\"formatter\":{\"id\":\"13783188-229f-4833-9966-1caed00904bb\",\"type\":\"BasicTickFormatter\"},\"plot\":{\"id\":\"a34fe731-eb8c-4e85-b591-7beac6f77913\",\"subtype\":\"Figure\",\"type\":\"Plot\"},\"ticker\":{\"id\":\"5fc0607b-c0f3-4a82-a7c6-8a1b78e3d899\",\"type\":\"BasicTicker\"}},\"id\":\"b6d62282-8fbe-4e45-abd2-30e01a4c4ce6\",\"type\":\"LinearAxis\"},{\"attributes\":{\"source\":{\"id\":\"b2596f5a-4218-46df-a053-9e21b0be8662\",\"type\":\"ColumnDataSource\"}},\"id\":\"52d67676-cfd8-4de6-aa08-fbd908f10c1d\",\"type\":\"CDSView\"},{\"attributes\":{\"callback\":null},\"id\":\"0931c0d9-45af-435a-b98e-e3742b4b71ea\",\"type\":\"DataRange1d\"},{\"attributes\":{},\"id\":\"e1348299-ff11-47bb-bb99-c139f8fdaf21\",\"type\":\"BasicTicker\"},{\"attributes\":{},\"id\":\"a47853e6-98e2-431d-88d7-085dec4389ca\",\"type\":\"LinearScale\"},{\"attributes\":{},\"id\":\"2334c5ad-caea-496e-a74c-12b745853060\",\"type\":\"LinearScale\"},{\"attributes\":{\"below\":[{\"id\":\"b6d62282-8fbe-4e45-abd2-30e01a4c4ce6\",\"type\":\"LinearAxis\"}],\"left\":[{\"id\":\"83387756-8c42-4882-946b-0801813eba8e\",\"type\":\"LinearAxis\"}],\"plot_height\":450,\"plot_width\":450,\"renderers\":[{\"id\":\"b6d62282-8fbe-4e45-abd2-30e01a4c4ce6\",\"type\":\"LinearAxis\"},{\"id\":\"a7f7b4c3-b7ac-4bc7-89b9-e3c6516a08bb\",\"type\":\"Grid\"},{\"id\":\"83387756-8c42-4882-946b-0801813eba8e\",\"type\":\"LinearAxis\"},{\"id\":\"6311e7e2-05d6-42b5-9e08-608bcae8714c\",\"type\":\"Grid\"},{\"id\":\"97388739-9534-4011-a3ad-d39f31b421f3\",\"type\":\"BoxAnnotation\"},{\"id\":\"f0679246-382a-41dd-b65d-590bc875f7ab\",\"type\":\"GlyphRenderer\"},{\"id\":\"f2f1602e-0840-4b94-beb3-31b703af06c3\",\"type\":\"GlyphRenderer\"},{\"id\":\"e1c4bf90-630e-490f-b71a-b008ac85aa53\",\"type\":\"GlyphRenderer\"}],\"title\":{\"id\":\"37bb65bd-970e-40a5-b5a3-e7570b0af24c\",\"type\":\"Title\"},\"toolbar\":{\"id\":\"c95a422d-4c47-4124-8550-a59800d8069a\",\"type\":\"Toolbar\"},\"x_range\":{\"id\":\"0931c0d9-45af-435a-b98e-e3742b4b71ea\",\"type\":\"DataRange1d\"},\"x_scale\":{\"id\":\"2334c5ad-caea-496e-a74c-12b745853060\",\"type\":\"LinearScale\"},\"y_range\":{\"id\":\"6c9998ae-8b48-4a33-b5b5-440560da74b3\",\"type\":\"DataRange1d\"},\"y_scale\":{\"id\":\"a47853e6-98e2-431d-88d7-085dec4389ca\",\"type\":\"LinearScale\"}},\"id\":\"a34fe731-eb8c-4e85-b591-7beac6f77913\",\"subtype\":\"Figure\",\"type\":\"Plot\"},{\"attributes\":{},\"id\":\"5fc0607b-c0f3-4a82-a7c6-8a1b78e3d899\",\"type\":\"BasicTicker\"}],\"root_ids\":[\"a34fe731-eb8c-4e85-b591-7beac6f77913\"]},\"title\":\"Bokeh Application\",\"version\":\"0.12.10\"}};\n",
       "    var render_items = [{\"docid\":\"865ae7fd-91c7-4a95-ba95-ba9f991bd80f\",\"elementid\":\"e24dfa17-e5d7-4b02-a887-bd632a75f36e\",\"modelid\":\"a34fe731-eb8c-4e85-b591-7beac6f77913\"}];\n",
       "\n",
       "    root.Bokeh.embed.embed_items(docs_json, render_items);\n",
       "  }\n",
       "\n",
       "  if (root.Bokeh !== undefined) {\n",
       "    embed_document(root);\n",
       "  } else {\n",
       "    var attempts = 0;\n",
       "    var timer = setInterval(function(root) {\n",
       "      if (root.Bokeh !== undefined) {\n",
       "        embed_document(root);\n",
       "        clearInterval(timer);\n",
       "      }\n",
       "      attempts++;\n",
       "      if (attempts > 100) {\n",
       "        console.log(\"Bokeh: ERROR: Unable to embed document because BokehJS library is missing\")\n",
       "        clearInterval(timer);\n",
       "      }\n",
       "    }, 10, root)\n",
       "  }\n",
       "})(window);"
      ],
      "application/vnd.bokehjs_exec.v0+json": ""
     },
     "metadata": {
      "application/vnd.bokehjs_exec.v0+json": {
       "id": "a34fe731-eb8c-4e85-b591-7beac6f77913"
      }
     },
     "output_type": "display_data"
    }
   ],
   "source": [
    "# Aplicamos la regresión logistica\n",
    "log_reg = LogisticRegression().fit(features, target)\n",
    "# Volvemos a dibujar las muestras\n",
    "p = figure(height=450, width=450)\n",
    "p.xaxis.axis_label = \"Primera prueba\"\n",
    "p.yaxis.axis_label = \"Segunda prueba\"\n",
    "nok = features[target == 0]\n",
    "aok = features[target == 1]\n",
    "p.scatter(nok[:,0], nok[:,1], color=\"red\")\n",
    "p.scatter(ok[:,0], ok[:,1], color = \"blue\")\n",
    "# Dibujamos la frontera de decisión\n",
    "w0 = log_reg.intercept_\n",
    "w1, w2 = log_reg.coef_[0]\n",
    "lin = np.array([-2,2])\n",
    "p.line(lin, (-w0-w1*lin)/w2)\n",
    "show(p)"
   ]
  },
  {
   "cell_type": "markdown",
   "metadata": {
    "slideshow": {
     "slide_type": "slide"
    }
   },
   "source": [
    "# Ahora vamos aplicar la regresión logística a un dataset más complicado"
   ]
  },
  {
   "cell_type": "code",
   "execution_count": 4,
   "metadata": {
    "collapsed": true
   },
   "outputs": [],
   "source": [
    "# Aqui importamos los datos que vamos a clasificar\n",
    "\n",
    "# Scikit-Learn ya incluye algunos datasets de ejemplo como el MNIST\n",
    "mnist = fetch_mldata('MNIST original')\n",
    "\n",
    "# El dataset contiene 70.000 ejemplos de digitos escritos a mano\n",
    "# en blanco y negro. Cada digito esta representada por una imagen de 28x28 pixels.\n",
    "# Además el dataset incluye el \"target\" i.e. el numero asociado con cada imagen.\n",
    "\n",
    "# Otros datasets serían más rápidos de ejecutar, pero la ventaja de este es que,\n",
    "# debido a su complejidad, cuando empecemos a utilizar modelos más complejos (como \n",
    "# redes neuronales), se empezarán a ver las ventajas de estos modelos más complejos\n",
    "\n",
    "# Aqui cargamos nuestros ejemplos en X, el target en y. Nuestro objetivo con\n",
    "# Machine Learning es aprender la función f(X) que genera y.\n",
    "X, y = mnist[\"data\"], mnist[\"target\"]"
   ]
  },
  {
   "cell_type": "markdown",
   "metadata": {
    "slideshow": {
     "slide_type": "slide"
    }
   },
   "source": [
    "## Separación del set de pruebas"
   ]
  },
  {
   "cell_type": "code",
   "execution_count": 5,
   "metadata": {
    "collapsed": true
   },
   "outputs": [],
   "source": [
    "# Nuestro objetivo es que la función aprendida funcione no solamente con\n",
    "# el dataset de prueba, pero que también \"generalize\" bien para ejemplos\n",
    "# que no haya visto antes.\n",
    "\n",
    "# En esta sección separamos el dataset en 2 partes: el training set y test set\n",
    "X_train_o, X_test_o, y_train, y_test = X[:60000], X[60000:], y[:60000], y[60000:]"
   ]
  },
  {
   "cell_type": "markdown",
   "metadata": {
    "slideshow": {
     "slide_type": "slide"
    }
   },
   "source": [
    "# Visualización de los datos"
   ]
  },
  {
   "cell_type": "code",
   "execution_count": 28,
   "metadata": {},
   "outputs": [
    {
     "data": {
      "text/html": [
       "\n",
       "<div class=\"bk-root\">\n",
       "    <div class=\"bk-plotdiv\" id=\"e1348e72-0ebd-4061-a963-086ec63a806c\"></div>\n",
       "</div>"
      ]
     },
     "metadata": {},
     "output_type": "display_data"
    },
    {
     "data": {
      "application/javascript": [
       "(function(root) {\n",
       "  function embed_document(root) {\n",
       "    var docs_json = {\"ec8efe7e-c7ac-44b8-813a-604bc827f442\":{\"roots\":{\"references\":[{\"attributes\":{},\"id\":\"baac9e00-a387-4111-8080-fa5982ff6593\",\"type\":\"LinearScale\"},{\"attributes\":{},\"id\":\"ed86cfbe-1f87-47b2-87ec-8d0cd0eba95b\",\"type\":\"SaveTool\"},{\"attributes\":{\"formatter\":{\"id\":\"14167e7f-69a9-4aa1-a760-ebf9364ebda5\",\"type\":\"BasicTickFormatter\"},\"plot\":{\"id\":\"8ddd4ec0-baa5-448b-b7c7-8f3fbbf56546\",\"subtype\":\"Figure\",\"type\":\"Plot\"},\"ticker\":{\"id\":\"02e309d8-0282-4ef4-9c03-e9eef2452347\",\"type\":\"BasicTicker\"}},\"id\":\"b5cb7755-3bea-4f91-8982-cd15ab595590\",\"type\":\"LinearAxis\"},{\"attributes\":{\"formatter\":{\"id\":\"00a37abd-cd17-4278-8f02-fdd4a72ae96e\",\"type\":\"BasicTickFormatter\"},\"plot\":{\"id\":\"8ddd4ec0-baa5-448b-b7c7-8f3fbbf56546\",\"subtype\":\"Figure\",\"type\":\"Plot\"},\"ticker\":{\"id\":\"359aa4bd-6d1f-4f31-a4fe-deb49f0f8165\",\"type\":\"BasicTicker\"}},\"id\":\"218bd6a5-83d7-4a69-8691-cc90e848582c\",\"type\":\"LinearAxis\"},{\"attributes\":{\"bottom_units\":\"screen\",\"fill_alpha\":{\"value\":0.5},\"fill_color\":{\"value\":\"lightgrey\"},\"left_units\":\"screen\",\"level\":\"overlay\",\"line_alpha\":{\"value\":1.0},\"line_color\":{\"value\":\"black\"},\"line_dash\":[4,4],\"line_width\":{\"value\":2},\"plot\":null,\"render_mode\":\"css\",\"right_units\":\"screen\",\"top_units\":\"screen\"},\"id\":\"577cfc3f-11db-434f-a478-b7d6f605a793\",\"type\":\"BoxAnnotation\"},{\"attributes\":{},\"id\":\"a2082a21-1f0c-4676-97fb-79ce8d9459a4\",\"type\":\"ResetTool\"},{\"attributes\":{\"color_mapper\":{\"id\":\"286a35f4-9480-45fa-892a-dfc0c4e3b824\",\"type\":\"LinearColorMapper\"},\"dh\":{\"field\":\"dh\",\"units\":\"data\"},\"dw\":{\"field\":\"dw\",\"units\":\"data\"},\"image\":{\"field\":\"image\"},\"x\":{\"field\":\"x\"},\"y\":{\"field\":\"y\"}},\"id\":\"1e156296-634b-4157-80fb-b022871c8c26\",\"type\":\"Image\"},{\"attributes\":{},\"id\":\"03d6051b-3757-4320-be8e-4e134ded42bc\",\"type\":\"HelpTool\"},{\"attributes\":{},\"id\":\"02e309d8-0282-4ef4-9c03-e9eef2452347\",\"type\":\"BasicTicker\"},{\"attributes\":{\"source\":{\"id\":\"e93621d2-f48d-49ab-8084-296d7d955fe5\",\"type\":\"ColumnDataSource\"}},\"id\":\"4361fb65-8915-4b34-99df-7f6a8918e112\",\"type\":\"CDSView\"},{\"attributes\":{},\"id\":\"c9b03954-4b4d-4716-9b52-a45bc941d259\",\"type\":\"PanTool\"},{\"attributes\":{\"plot\":{\"id\":\"8ddd4ec0-baa5-448b-b7c7-8f3fbbf56546\",\"subtype\":\"Figure\",\"type\":\"Plot\"},\"ticker\":{\"id\":\"359aa4bd-6d1f-4f31-a4fe-deb49f0f8165\",\"type\":\"BasicTicker\"}},\"id\":\"a7a6fa22-e358-4b1d-94f0-615f830566ac\",\"type\":\"Grid\"},{\"attributes\":{\"below\":[{\"id\":\"218bd6a5-83d7-4a69-8691-cc90e848582c\",\"type\":\"LinearAxis\"}],\"left\":[{\"id\":\"b5cb7755-3bea-4f91-8982-cd15ab595590\",\"type\":\"LinearAxis\"}],\"plot_height\":450,\"plot_width\":450,\"renderers\":[{\"id\":\"218bd6a5-83d7-4a69-8691-cc90e848582c\",\"type\":\"LinearAxis\"},{\"id\":\"a7a6fa22-e358-4b1d-94f0-615f830566ac\",\"type\":\"Grid\"},{\"id\":\"b5cb7755-3bea-4f91-8982-cd15ab595590\",\"type\":\"LinearAxis\"},{\"id\":\"855dad1b-fe2f-419c-8b1c-921c8cfd5db6\",\"type\":\"Grid\"},{\"id\":\"577cfc3f-11db-434f-a478-b7d6f605a793\",\"type\":\"BoxAnnotation\"},{\"id\":\"cdbea8e0-aeeb-4617-a834-5a25ad16c4cd\",\"type\":\"GlyphRenderer\"}],\"title\":{\"id\":\"c5b32a70-8aa2-4eb9-8ab4-59c6f88ea8a2\",\"type\":\"Title\"},\"toolbar\":{\"id\":\"7580a225-77a3-443d-91a3-2b00f01f9d40\",\"type\":\"Toolbar\"},\"x_range\":{\"id\":\"54b9f7d1-660f-42a2-9c24-4733a5d070cb\",\"type\":\"Range1d\"},\"x_scale\":{\"id\":\"69508f91-f35d-462e-8a9f-8a4068efe707\",\"type\":\"LinearScale\"},\"y_range\":{\"id\":\"786b5222-5820-4fb1-8359-25ec8205cedb\",\"type\":\"Range1d\"},\"y_scale\":{\"id\":\"baac9e00-a387-4111-8080-fa5982ff6593\",\"type\":\"LinearScale\"}},\"id\":\"8ddd4ec0-baa5-448b-b7c7-8f3fbbf56546\",\"subtype\":\"Figure\",\"type\":\"Plot\"},{\"attributes\":{},\"id\":\"14167e7f-69a9-4aa1-a760-ebf9364ebda5\",\"type\":\"BasicTickFormatter\"},{\"attributes\":{\"callback\":null},\"id\":\"786b5222-5820-4fb1-8359-25ec8205cedb\",\"type\":\"Range1d\"},{\"attributes\":{},\"id\":\"00a37abd-cd17-4278-8f02-fdd4a72ae96e\",\"type\":\"BasicTickFormatter\"},{\"attributes\":{\"callback\":null},\"id\":\"54b9f7d1-660f-42a2-9c24-4733a5d070cb\",\"type\":\"Range1d\"},{\"attributes\":{\"overlay\":{\"id\":\"577cfc3f-11db-434f-a478-b7d6f605a793\",\"type\":\"BoxAnnotation\"}},\"id\":\"449a9978-e33e-4071-a914-2725a443053d\",\"type\":\"BoxZoomTool\"},{\"attributes\":{\"plot\":null,\"text\":\"\"},\"id\":\"c5b32a70-8aa2-4eb9-8ab4-59c6f88ea8a2\",\"type\":\"Title\"},{\"attributes\":{\"active_drag\":\"auto\",\"active_inspect\":\"auto\",\"active_scroll\":\"auto\",\"active_tap\":\"auto\",\"tools\":[{\"id\":\"c9b03954-4b4d-4716-9b52-a45bc941d259\",\"type\":\"PanTool\"},{\"id\":\"35a251a1-965c-44cd-8377-32dfb5082674\",\"type\":\"WheelZoomTool\"},{\"id\":\"449a9978-e33e-4071-a914-2725a443053d\",\"type\":\"BoxZoomTool\"},{\"id\":\"ed86cfbe-1f87-47b2-87ec-8d0cd0eba95b\",\"type\":\"SaveTool\"},{\"id\":\"a2082a21-1f0c-4676-97fb-79ce8d9459a4\",\"type\":\"ResetTool\"},{\"id\":\"03d6051b-3757-4320-be8e-4e134ded42bc\",\"type\":\"HelpTool\"}]},\"id\":\"7580a225-77a3-443d-91a3-2b00f01f9d40\",\"type\":\"Toolbar\"},{\"attributes\":{\"color_mapper\":{\"id\":\"628d2261-f9e1-48d8-8b97-90f63b918294\",\"type\":\"LinearColorMapper\"},\"dh\":{\"field\":\"dh\",\"units\":\"data\"},\"dw\":{\"field\":\"dw\",\"units\":\"data\"},\"image\":{\"field\":\"image\"},\"x\":{\"field\":\"x\"},\"y\":{\"field\":\"y\"}},\"id\":\"425569f4-ed83-423c-bd7d-80208672b888\",\"type\":\"Image\"},{\"attributes\":{\"callback\":null,\"column_names\":[\"image\",\"x\",\"y\",\"dw\",\"dh\"],\"data\":{\"dh\":[1],\"dw\":[1],\"image\":[{\"__ndarray__\":\"AAAAAAAAAAAAAAAAAAAAAAAAAAAAAAAAAAAAAAAAAAAAAAAAAAAAAAAAAAAAAAAAAAAAAAAAAAAAAAAAAAAAAAAAAAAAAAAAAAAAAAAAAAAAAAAAAAAAAAAAAAAAAAAAAAAAAAAAAAAAAAAAAAAAAAAAAAAAAAAAAAAfZrL+kCwAAAAAAAAAAAAAAAAAAAAAAAAAI1ux9/394OHIHwAAAAAAAAAAAAAAAAAAAAAAALD9/c2aSBll/YcAAAAAAAAAAAAAAAAAAAAABs7975APAAAAArSQAAAAAAAAAAAAAAAAAAAAFr391x8AAAAAABbjLAAAAAAAAAAAAAAAAAAAACL9/VMAAAAAAAB5/SwAAAAAAAAAAAAAAAAAAAAg+tIGAAAAAAAF9eAZAAAAAAAAAAAAAAAAAAAAAEW+CQAAAAhPxv79rJEtCgAAAAAAAAAAAAAAAAAAAAAAAE3H/f3//f39/coyAAAAAAAAAAAAAAAAAAAAAH77/f39/v39/f397lcAAAAAAAAAAAAAAAAAADj+/v7+8DEAAApv0f7YCQAAAAAAAAAAAAAAAACE/f39qiwAAAAAABvS/UIAAAAAAAAAAAAAAAAAS/39rQwAAAAAAAAAev2dAAAAAAAAAAAAAAAAAAMKCgQAAAAAAAAAALT9sAAAAAAAAAAAAAAAAAAAAAAAAAAAAAAAADv2/WgAAAAAAAAAAAAAAAAAAEZZIwAAAAAAAACv/dsOAAAAAAAAAAAAAAAAADH3/WoMAgAIDEbC+f2hAAAAAAAAAAAAAAAAAAAi6P39/aeb4P39/f37fQAAAAAAAAAAAAAAAAAAD9X9/f39/v39/f3ieQAAAAAAAAAAAAAAAAAAAAAaIWSP7/79/ZN3FQAAAAAAAAAAAAAAAAAAAAAAAAAAAAAAAAAAAAAAAAAAAAAAAAAAAAAAAAAAAAAAAAAAAAAAAAAAAAAAAAAAAAAAAAAAAAAAAAAAAAAAAAAAAAAAAAAAAAAAAAAAAAAAAAAAAAAAAAAAAAAAAAAAAAAAAAAAAAAAAA==\",\"dtype\":\"uint8\",\"shape\":[28,28]}],\"x\":[0],\"y\":[0]}},\"id\":\"e93621d2-f48d-49ab-8084-296d7d955fe5\",\"type\":\"ColumnDataSource\"},{\"attributes\":{\"palette\":[\"#000000\",\"#252525\",\"#525252\",\"#737373\",\"#969696\",\"#bdbdbd\",\"#d9d9d9\",\"#f0f0f0\",\"#ffffff\"]},\"id\":\"628d2261-f9e1-48d8-8b97-90f63b918294\",\"type\":\"LinearColorMapper\"},{\"attributes\":{},\"id\":\"35a251a1-965c-44cd-8377-32dfb5082674\",\"type\":\"WheelZoomTool\"},{\"attributes\":{},\"id\":\"359aa4bd-6d1f-4f31-a4fe-deb49f0f8165\",\"type\":\"BasicTicker\"},{\"attributes\":{\"palette\":[\"#000000\",\"#252525\",\"#525252\",\"#737373\",\"#969696\",\"#bdbdbd\",\"#d9d9d9\",\"#f0f0f0\",\"#ffffff\"]},\"id\":\"286a35f4-9480-45fa-892a-dfc0c4e3b824\",\"type\":\"LinearColorMapper\"},{\"attributes\":{},\"id\":\"69508f91-f35d-462e-8a9f-8a4068efe707\",\"type\":\"LinearScale\"},{\"attributes\":{\"dimension\":1,\"plot\":{\"id\":\"8ddd4ec0-baa5-448b-b7c7-8f3fbbf56546\",\"subtype\":\"Figure\",\"type\":\"Plot\"},\"ticker\":{\"id\":\"02e309d8-0282-4ef4-9c03-e9eef2452347\",\"type\":\"BasicTicker\"}},\"id\":\"855dad1b-fe2f-419c-8b1c-921c8cfd5db6\",\"type\":\"Grid\"},{\"attributes\":{\"data_source\":{\"id\":\"e93621d2-f48d-49ab-8084-296d7d955fe5\",\"type\":\"ColumnDataSource\"},\"glyph\":{\"id\":\"1e156296-634b-4157-80fb-b022871c8c26\",\"type\":\"Image\"},\"hover_glyph\":null,\"muted_glyph\":null,\"nonselection_glyph\":{\"id\":\"425569f4-ed83-423c-bd7d-80208672b888\",\"type\":\"Image\"},\"selection_glyph\":null,\"view\":{\"id\":\"4361fb65-8915-4b34-99df-7f6a8918e112\",\"type\":\"CDSView\"}},\"id\":\"cdbea8e0-aeeb-4617-a834-5a25ad16c4cd\",\"type\":\"GlyphRenderer\"}],\"root_ids\":[\"8ddd4ec0-baa5-448b-b7c7-8f3fbbf56546\"]},\"title\":\"Bokeh Application\",\"version\":\"0.12.10\"}};\n",
       "    var render_items = [{\"docid\":\"ec8efe7e-c7ac-44b8-813a-604bc827f442\",\"elementid\":\"e1348e72-0ebd-4061-a963-086ec63a806c\",\"modelid\":\"8ddd4ec0-baa5-448b-b7c7-8f3fbbf56546\"}];\n",
       "\n",
       "    root.Bokeh.embed.embed_items(docs_json, render_items);\n",
       "  }\n",
       "\n",
       "  if (root.Bokeh !== undefined) {\n",
       "    embed_document(root);\n",
       "  } else {\n",
       "    var attempts = 0;\n",
       "    var timer = setInterval(function(root) {\n",
       "      if (root.Bokeh !== undefined) {\n",
       "        embed_document(root);\n",
       "        clearInterval(timer);\n",
       "      }\n",
       "      attempts++;\n",
       "      if (attempts > 100) {\n",
       "        console.log(\"Bokeh: ERROR: Unable to embed document because BokehJS library is missing\")\n",
       "        clearInterval(timer);\n",
       "      }\n",
       "    }, 10, root)\n",
       "  }\n",
       "})(window);"
      ],
      "application/vnd.bokehjs_exec.v0+json": ""
     },
     "metadata": {
      "application/vnd.bokehjs_exec.v0+json": {
       "id": "8ddd4ec0-baa5-448b-b7c7-8f3fbbf56546"
      }
     },
     "output_type": "display_data"
    }
   ],
   "source": [
    "img = np.reshape(X[23455], [28, 28])\n",
    "p = figure(height=450, width=450, x_range=(0, 1), y_range=(0,1))\n",
    "p.image(image=[img], x=[0], y=[0], dw=[1], dh=[1])\n",
    "show(p)\n"
   ]
  },
  {
   "cell_type": "markdown",
   "metadata": {
    "slideshow": {
     "slide_type": "slide"
    }
   },
   "source": [
    "# Normalización de los datos (aka Feature Engineering)"
   ]
  },
  {
   "cell_type": "code",
   "execution_count": 29,
   "metadata": {},
   "outputs": [
    {
     "name": "stderr",
     "output_type": "stream",
     "text": [
      "C:\\ProgramData\\Anaconda3\\envs\\tensorflow\\lib\\site-packages\\sklearn\\utils\\validation.py:475: DataConversionWarning: Data with input dtype uint8 was converted to float64 by StandardScaler.\n",
      "  warnings.warn(msg, DataConversionWarning)\n"
     ]
    }
   ],
   "source": [
    "# Antes de enviar los datos al modelo, hacemos una adaptación de los datos para normalizarlos\n",
    "# Por normalización en este contexto la idea es remover la media de cada \"feature\"\n",
    "# (i.e. centrar en zero) y dividir por la \"variance\", es decir hacer que los datos estén entre\n",
    "# 0 y 1.\n",
    "scaler = StandardScaler()\n",
    "X_train = scaler.fit_transform(X_train_o)\n",
    "X_test = scaler.transform(X_test_o)\n"
   ]
  },
  {
   "cell_type": "markdown",
   "metadata": {
    "slideshow": {
     "slide_type": "slide"
    }
   },
   "source": [
    "# Regresión Logistica"
   ]
  },
  {
   "cell_type": "code",
   "execution_count": 30,
   "metadata": {},
   "outputs": [
    {
     "name": "stdout",
     "output_type": "stream",
     "text": [
      "Wall time: 11.1 s\n",
      "Wall time: 122 ms\n",
      "Rendimiento en el dataset de training: 0.8893\n",
      "Wall time: 19.1 ms\n",
      "Rendimiento en el dataset de pruebas: 0.8918\n"
     ]
    }
   ],
   "source": [
    "# El problema que vamos a classificar tiene 768 dimensiones de entrada (28x28)\n",
    "# La regresión logistica intentará definir una \"línea\" en este espacio multidimensional\n",
    "# que mejor represente el dato\n",
    "\n",
    "# Creamos el modelo que queremos usar\n",
    "# Para la regresión logistica, hemos indicado que el modelo es para una\n",
    "# clasificacion de multiplas clases\n",
    "lr_clf = LogisticRegression(multi_class='multinomial', solver='saga', tol=0.1)\n",
    "\n",
    "# Hacemos fit del modelo al dato de training\n",
    "%time lr_clf.fit(X_train, y_train)\n",
    "\n",
    "# Los modelos de Scikit-Learn ya vienen con funciones para evaluar el rendimiento del modelo\n",
    "# Con este modelo sencillo hemos podido alcanzar una \"exactitud\" de mis previsiones de casi 90%\n",
    "# Usamos \"exactitud\" para diferenciar de precisión que significa otra cosa en nuestras medidas\n",
    "# rendimiento.\n",
    "%time train_score = lr_clf.score(X_train, y_train)\n",
    "print(\"Rendimiento en el dataset de training: %.4f\" % train_score)\n",
    "%time score = lr_clf.score(X_test, y_test)\n",
    "print(\"Rendimiento en el dataset de pruebas: %.4f\" % score)\n"
   ]
  },
  {
   "cell_type": "markdown",
   "metadata": {
    "slideshow": {
     "slide_type": "slide"
    }
   },
   "source": [
    "# Evaluación del Modelo\n",
    "\n",
    "- Exactitud - Accuracy\n",
    "- Precisión - Precision\n",
    "- \"Retirada\" - Recall\n"
   ]
  },
  {
   "cell_type": "code",
   "execution_count": null,
   "metadata": {
    "collapsed": true
   },
   "outputs": [],
   "source": [
    "# Los modelos de Scikit-Learn ya vienen con funciones para evaluar el rendimiento del modelo\n",
    "# Con este modelo sencillo hemos podido alcanzar una \"exactitud\" de mis previsiones de casi 90%\n",
    "# Usamos \"exactitud\" para diferenciar de precisión que significa otra cosa en nuestras medidas\n",
    "# rendimiento.\n",
    "%time train_score = lr_clf.score(X_train, y_train)\n",
    "print(\"Rendimiento en el dataset de training: %.4f\" % train_score)\n",
    "%time score = lr_clf.score(X_test, y_test)\n",
    "print(\"Rendimiento en el dataset de pruebas: %.4f\" % score)\n"
   ]
  }
 ],
 "metadata": {
  "celltoolbar": "Slideshow",
  "kernelspec": {
   "display_name": "Python 3",
   "language": "python",
   "name": "python3"
  },
  "language_info": {
   "codemirror_mode": {
    "name": "ipython",
    "version": 3
   },
   "file_extension": ".py",
   "mimetype": "text/x-python",
   "name": "python",
   "nbconvert_exporter": "python",
   "pygments_lexer": "ipython3",
   "version": "3.6.3"
  }
 },
 "nbformat": 4,
 "nbformat_minor": 2
}
